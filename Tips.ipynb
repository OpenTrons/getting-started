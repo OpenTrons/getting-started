{
 "cells": [
  {
   "cell_type": "markdown",
   "metadata": {},
   "source": [
    "### Tips\n",
    "\n",
    "This protocol demonstrates the multiple options\n",
    "available for controlling tips"
   ]
  },
  {
   "cell_type": "code",
   "execution_count": null,
   "metadata": {
    "collapsed": true
   },
   "outputs": [],
   "source": [
    "trash = containers.load('point', 'D2')\n",
    "tip_rack = containers.load('tiprack-200ul', 'B1')\n",
    "\n",
    "pipette = instruments.Pipette(axis='a')\n",
    "\n",
    "pipette.pick_up_tip(tip_rack['A1'])  # pick up <tip_rack:A1>\n",
    "pipette.drop_tip(tip_rack['A1'])     # drop tip <tip_rack:A1>\n",
    "\n",
    "pipette.pick_up_tip(tip_rack['A2'])  # pick up tip_rack:A2\n",
    "pipette.return_tip()                   # return to tip_rack:A2\n",
    "\n",
    "pipette.pick_up_tip(tip_rack['A3'])  # pick up tip_rack:A3\n",
    "pipette.drop_tip(trash)                # drop tip in trash\n",
    "\n",
    "pipette.pick_up_tip(tip_rack['A4'])  # pick up tip_rack:A4\n",
    "pipette.move_to(trash)                 # move pipette to the trash\n",
    "pipette.drop_tip()                     # drop tip at current position\n"
   ]
  }
 ],
 "metadata": {
  "anaconda-cloud": {},
  "kernelspec": {
   "display_name": "Python [default]",
   "language": "python",
   "name": "python3"
  },
  "language_info": {
   "codemirror_mode": {
    "name": "ipython",
    "version": 3
   },
   "file_extension": ".py",
   "mimetype": "text/x-python",
   "name": "python",
   "nbconvert_exporter": "python",
   "pygments_lexer": "ipython3",
   "version": "3.5.2"
  }
 },
 "nbformat": 4,
 "nbformat_minor": 0
}

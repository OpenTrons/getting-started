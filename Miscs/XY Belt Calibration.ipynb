{
 "cells": [
  {
   "cell_type": "code",
   "execution_count": null,
   "metadata": {
    "collapsed": true
   },
   "outputs": [],
   "source": [
    "from opentrons import robot\n",
    "\n",
    "ports = robot.get_serial_ports_list()\n",
    "for p in robot.get_serial_ports_list():\n",
    "    print(p)\n",
    "\n",
    "# TO CONNECT, UNCOMMENT THE BELOW LINE AND EDIT WITH THE NAME OF YOUR PORT\n",
    "robot.connect('/dev/tty.usbmodem14141')\n",
    "\n",
    "if not robot.is_connected():\n",
    "    raise RuntimeError('no connection to robot. exiting.')\n",
    "\n",
    "robot.home()\n",
    "robot.home('xy')\n",
    "\n",
    "dimensions = robot._driver.get_dimensions() - (50, 50, 0)\n",
    "robot.move_head(x=dimensions[0], y=-dimensions[1], mode='relative')\n",
    "\n",
    "input('mark X position on the robot, then press ENTER key')\n",
    "input('mark Y position on the robot, then press ENTER key')\n",
    "\n",
    "robot.home('xy')\n",
    "robot.home('xy')\n",
    "\n",
    "actual_travel_x = float(input('enter the measured X distance: '))\n",
    "actual_travel_y = float(input('enter the measured Y distance: '))\n",
    "\n",
    "robot._driver.calibrate_steps_per_mm('x', dimensions[0], actual_travel_x)\n",
    "robot._driver.calibrate_steps_per_mm('y', dimensions[1], actual_travel_y)"
   ]
  }
 ],
 "metadata": {
  "anaconda-cloud": {},
  "kernelspec": {
   "display_name": "Python [default]",
   "language": "python",
   "name": "python3"
  },
  "language_info": {
   "codemirror_mode": {
    "name": "ipython",
    "version": 3
   },
   "file_extension": ".py",
   "mimetype": "text/x-python",
   "name": "python",
   "nbconvert_exporter": "python",
   "pygments_lexer": "ipython3",
   "version": "3.5.2"
  }
 },
 "nbformat": 4,
 "nbformat_minor": 1
}

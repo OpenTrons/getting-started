{
 "cells": [
  {
   "cell_type": "markdown",
   "metadata": {},
   "source": [
    "# XY Belt Calibration\n",
    "\n",
    "The OT1 uses elastic bands to travel along its X (left-right) and Y (forward-backward) axis. Very slight changes in length from stretching will cause the robot to slowly lose its ability to measure distances accurately. For example, we tell the robot to move 100mm, but it seems to move about 103mm.\n",
    "\n",
    "There is a solution! What we can do is simply tell the robot to move a certain distance, then measure and tell it how far it actually travelled. If done accurately, this will then fix the robot's internal calculations for determining \"real-world\" distances.\n",
    "\n",
    "<div class=\"alert alert-warning\" role=\"alert\" style=\"margin: 10px\">\n",
    "<p><strong>NOTE</strong></p>\n",
    "<p>Distance accuracy is different from consistency. If your robot cannot move to the same location consistently, this is a different problem and more to do with the tension of your belts. Please contact Opentrons support to help troubleshoot.</p>\n",
    "</div>"
   ]
  },
  {
   "cell_type": "markdown",
   "metadata": {},
   "source": [
    "## Instructions\n",
    "\n",
    "Make sure your OT1 is connected to your computer, and the App or any other program is **not** connected to it.\n",
    "\n",
    "Run the cell below, and it will ask you which port to connect to, and also what distances to move. After running the cell, scroll to the bottom of this screen to follow along with the print-outs.\n",
    "\n",
    "### Video Tutorial on Calibrating XY belts\n",
    "\n",
    "Follow along with [this video tutorial](https://www.youtube.com/watch?v=Y2Xd7FFzQLk). It will show you how to run this notebook and measure your robot's XY belts.\n",
    "\n",
    "### Tools Required\n",
    "\n",
    "Some [painter's tape](https://www.amazon.com/ScotchBlue-Painters-Multi-Use-1-41-Inch-60-Yard/dp/B00004Z4DI/ref=sr_1_4?s=hi&ie=UTF8&qid=1486139289&sr=1-4&keywords=painters+tape), a pen, and an accurate measuring tool like a ruler.\n",
    "\n",
    "<div class=\"alert alert-warning\" role=\"alert\" style=\"margin: 10px\">\n",
    "<p><strong>NOTE</strong></p>\n",
    "<p>Be very careful when changing the XY belt calibrations, as innacurate setting could make the robot move uncontrollably. If things go wrong and you wish to start fresh, you can always <a href=\"http://docs.opentrons.com/updating_firmware.html\">reload the firmware</a>.</p>\n",
    "</div>"
   ]
  },
  {
   "cell_type": "code",
   "execution_count": null,
   "metadata": {
    "collapsed": false
   },
   "outputs": [],
   "source": [
    "from opentrons import robot\n",
    "\n",
    "\n",
    "def connect_to_robot():\n",
    "    \"\"\"\n",
    "    Search for ports, connect to a robot, and home\n",
    "    \"\"\"\n",
    "    print('Enter the number of the port to connect to:\\n')\n",
    "    count = 0\n",
    "    ports = robot.get_serial_ports_list()\n",
    "    if not ports:\n",
    "        raise RuntimeError(\n",
    "            'No serial ports found. Please make sure your robot\\'s USB cable is connected')\n",
    "    for i, portname in enumerate(ports):\n",
    "        print('  {0})   {1}\\n'.format(count, portname))\n",
    "    val = input('Enter number next to desired port (0, 1, etc): '.format(1, count))\n",
    "    try:\n",
    "        val = int(val)\n",
    "    except:\n",
    "        print('Bad input: {}'.format(val))\n",
    "        sys.exit()\n",
    "    try:\n",
    "        robot.connect(robot.get_serial_ports_list()[val])\n",
    "    except RuntimeWarning:\n",
    "        robot.connect(robot.get_serial_ports_list()[val])\n",
    "    print('Connected, homing...')\n",
    "    robot.home()\n",
    "    robot.home('xy')\n",
    "\n",
    "\n",
    "def request_distance_from_user():\n",
    "    \"\"\"\n",
    "    Get the dimensions of this robot, and ask the user for the testing distance\n",
    "    \"\"\"\n",
    "    dimensions = robot._driver.get_dimensions() - (50, 50, 0)\n",
    "    x_dist = int(input('Enter distanct for X to travel (max {}):'.format(dimensions[0])))\n",
    "    y_dist = int(input('Enter distanct for Y to travel (max {}):'.format(dimensions[1])))\n",
    "    x_dist = min(x_dist, dimensions[0])\n",
    "    y_dist = min(y_dist, dimensions[1])\n",
    "    return (x_dist, y_dist)\n",
    "\n",
    "    \n",
    "def measure_belts(x_dist, y_dist):\n",
    "    \"\"\"\n",
    "    Move the robot, allow user to mark positions, ask user to measure and submit measurements\n",
    "    \"\"\"\n",
    "    print('Moving the robot {0}mm on the X, and {1}mm on the Y'.format(x_dist, y_dist))\n",
    "    robot.move_head(x=x_dist, y=y_dist * -1, mode='relative')  # Y axis is flipped\n",
    "\n",
    "    input('mark X position on the robot, then press ENTER key')\n",
    "    input('mark Y position on the robot, then press ENTER key')\n",
    "\n",
    "    robot.home('xy')\n",
    "    robot.home('xy')\n",
    "\n",
    "    actual_travel_x = float(input('enter the measured X distance: '))\n",
    "    actual_travel_y = float(input('enter the measured Y distance: '))\n",
    "    robot._driver.calibrate_steps_per_mm('x', x_dist, actual_travel_x)\n",
    "    robot._driver.calibrate_steps_per_mm('y', y_dist, actual_travel_y)\n",
    "\n",
    "\n",
    "connect_to_robot()\n",
    "x, y = request_distance_from_user()\n",
    "measure_belts(x, y)\n",
    "\n",
    "print('New values saved. Restarting the robot to allow changes to take effect')\n",
    "print('Please wait 5-10 seconds before reconnecting to the robot')\n",
    "\n",
    "robot._driver.reset()\n",
    "robot.disconnect()"
   ]
  },
  {
   "cell_type": "markdown",
   "metadata": {},
   "source": [
    "### follow the print-outs you'll see above ^^^"
   ]
  }
 ],
 "metadata": {
  "anaconda-cloud": {},
  "kernelspec": {
   "display_name": "Python [default]",
   "language": "python",
   "name": "python3"
  },
  "language_info": {
   "codemirror_mode": {
    "name": "ipython",
    "version": 3
   },
   "file_extension": ".py",
   "mimetype": "text/x-python",
   "name": "python",
   "nbconvert_exporter": "python",
   "pygments_lexer": "ipython3",
   "version": "3.5.2"
  }
 },
 "nbformat": 4,
 "nbformat_minor": 1
}

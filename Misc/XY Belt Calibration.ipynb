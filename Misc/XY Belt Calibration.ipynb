{
 "cells": [
  {
   "cell_type": "markdown",
   "metadata": {},
   "source": [
    "<hr></hr>\n",
    "\n",
    "# XY Belt Calibration\n",
    "\n",
    "The OT1 uses elastic bands to travel along its X (left-right) and Y (forward-backward) axis. Very slight changes in length from stretching will cause the robot to slowly lose its ability to measure distances accurately. For example, we tell the robot to move 100mm, but it seems to move about 103mm.\n",
    "\n",
    "There is a solution! What we can do is simply tell the robot to move a certain distance, then measure and tell it how far it actually travelled. If done accurately, this will then fix it's internal calculations for determining \"real-world\" distances.\n",
    "\n",
    "<div class=\"alert alert-warning\" role=\"alert\" style=\"margin: 10px\">\n",
    "<p><strong>NOTE</strong></p>\n",
    "<p>Be very careful when changing the XY belt calibrations, as innacurate settings could make the robot move uncontrollably. If things go wrong and you wish to start fresh, you can always <a href=\"http://docs.opentrons.com/updating_firmware.html\">reload the firmware</a>.</p>\n",
    "</div>\n",
    "\n",
    "<div class=\"alert alert-warning\" role=\"alert\" style=\"margin: 10px\">\n",
    "<p><strong>NOTE</strong></p>\n",
    "<p>Distance accuracy is different from consistency. If your robot cannot move to the same location consistently, this is a different problem and more to do with the tension of your belts. Please contact Opentrons support to help troubleshoot solutions.</p>\n",
    "</div>"
   ]
  },
  {
   "cell_type": "code",
   "execution_count": null,
   "metadata": {
    "collapsed": true
   },
   "outputs": [],
   "source": [
    "from opentrons import robot\n",
    "\n",
    "ports = robot.get_serial_ports_list()\n",
    "for p in robot.get_serial_ports_list():\n",
    "    print(p)\n",
    "\n",
    "# TO CONNECT, UNCOMMENT THE BELOW LINE AND EDIT WITH THE NAME OF YOUR PORT\n",
    "robot.connect('/dev/tty.usbmodem14141')\n",
    "\n",
    "if not robot.is_connected():\n",
    "    raise RuntimeError('No connection to robot')\n",
    "\n",
    "print('Connected, homing...')\n",
    "\n",
    "robot.home()\n",
    "robot.home('xy')\n",
    "\n",
    "print('Moving the robot {0}mm on the X, and {1}mm on the Y'.format(dimensions[0], dimensions[1]))\n",
    "\n",
    "dimensions = robot._driver.get_dimensions() - (50, 50, 0)\n",
    "robot.move_head(x=dimensions[0], y=-dimensions[1], mode='relative')\n",
    "\n",
    "input('mark X position on the robot, then press ENTER key')\n",
    "input('mark Y position on the robot, then press ENTER key')\n",
    "\n",
    "robot.home('xy')\n",
    "robot.home('xy')\n",
    "\n",
    "actual_travel_x = float(input('enter the measured X distance: '))\n",
    "actual_travel_y = float(input('enter the measured Y distance: '))\n",
    "\n",
    "robot._driver.calibrate_steps_per_mm('x', dimensions[0], actual_travel_x)\n",
    "robot._driver.calibrate_steps_per_mm('y', dimensions[1], actual_travel_y)\n",
    "\n",
    "print('New values saved. Restarting the robot to allow changes to take effect')\n",
    "print('Please wait 5-10 seconds before reconnecting to the robot')\n",
    "\n",
    "robot._driver.reset()\n",
    "robot.disconnect()"
   ]
  }
 ],
 "metadata": {
  "anaconda-cloud": {},
  "kernelspec": {
   "display_name": "Python [default]",
   "language": "python",
   "name": "python3"
  },
  "language_info": {
   "codemirror_mode": {
    "name": "ipython",
    "version": 3
   },
   "file_extension": ".py",
   "mimetype": "text/x-python",
   "name": "python",
   "nbconvert_exporter": "python",
   "pygments_lexer": "ipython3",
   "version": "3.5.2"
  }
 },
 "nbformat": 4,
 "nbformat_minor": 1
}

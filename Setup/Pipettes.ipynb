{
 "cells": [
  {
   "cell_type": "markdown",
   "metadata": {},
   "source": [
    "# Pipettes\n",
    "\n",
    "The `instruments` module gives your protocol access to the `Pipette`, which is what you will be primarily using to create protocol commands."
   ]
  },
  {
   "cell_type": "code",
   "execution_count": null,
   "metadata": {
    "collapsed": true
   },
   "outputs": [],
   "source": [
    "from opentrons import instruments"
   ]
  },
  {
   "cell_type": "markdown",
   "metadata": {},
   "source": [
    "### Axis and Max Volume\n",
    "\n",
    "To create a `Pipette`, you must give it an `axis` and a `max_volume`. The axis can be either `'a'` or `'b'`, and the volume is whatever your hand pipette is calibrated for. In this example, we are using a 200uL pipette."
   ]
  },
  {
   "cell_type": "code",
   "execution_count": null,
   "metadata": {
    "collapsed": true
   },
   "outputs": [],
   "source": [
    "pipette = instruments.Pipette(\n",
    "    axis='b',\n",
    "    name='my-p200',\n",
    "    max_volume=200)"
   ]
  },
  {
   "cell_type": "markdown",
   "metadata": {},
   "source": [
    "### Minimum Volume\n",
    "\n",
    "The minimum allowed volume can be set for each pipette. If your protocol attempts to aspirate or dispense a volume below this volume, the API will give you a warning."
   ]
  },
  {
   "cell_type": "code",
   "execution_count": null,
   "metadata": {
    "collapsed": true
   },
   "outputs": [],
   "source": [
    "pipette = instruments.Pipette(\n",
    "    axis='b',\n",
    "    name='my-p200',\n",
    "    max_volume=200,\n",
    "    min_volume=20)"
   ]
  },
  {
   "cell_type": "markdown",
   "metadata": {},
   "source": [
    "### Channels\n",
    "\n",
    "Pipettes can also be assigned a number of channels, either `channel=1` or `channel=8`. If you do not specify, it will default to `channel=1` channel."
   ]
  },
  {
   "cell_type": "code",
   "execution_count": null,
   "metadata": {
    "collapsed": true
   },
   "outputs": [],
   "source": [
    "pipette = instruments.Pipette(\n",
    "    axis='b',\n",
    "    name='my-p200-multichannel',\n",
    "    max_volume=200,\n",
    "    min_volume=20,\n",
    "    channels=8)"
   ]
  },
  {
   "cell_type": "markdown",
   "metadata": {},
   "source": [
    "### Plunger Speeds\n",
    "The speeds at which the pipette will aspirate and dispense can be set through `aspirate_speed` and `dispense_speed`. The values are in millimeters/minute, and default to `aspirate_speed=300` and `dispense_speed=500`.\n",
    "\n",
    "<div class=\"alert alert-warning\" role=\"alert\" style=\"margin: 10px\">\n",
    "<p><strong>NOTE</strong></p>\n",
    "<p>Plunger speeds above 500 run the risk of causing the motor to skip. If your motor skips even once during a protocol run, your volumes will no longer be accurate. So whenever you increase the plunger speed test thuroughly to see if it skips.</p>\n",
    "</div>"
   ]
  },
  {
   "cell_type": "code",
   "execution_count": null,
   "metadata": {
    "collapsed": true
   },
   "outputs": [],
   "source": [
    "pipette = instruments.Pipette(\n",
    "    axis='b',\n",
    "    name='my-p200-multichannel',\n",
    "    max_volume=200,\n",
    "    min_volume=20,\n",
    "    channels=8,\n",
    "    aspirate_speed=200,\n",
    "    dispense_speed=600)"
   ]
  }
 ],
 "metadata": {
  "anaconda-cloud": {},
  "kernelspec": {
   "display_name": "Python [default]",
   "language": "python",
   "name": "python3"
  },
  "language_info": {
   "codemirror_mode": {
    "name": "ipython",
    "version": 3
   },
   "file_extension": ".py",
   "mimetype": "text/x-python",
   "name": "python",
   "nbconvert_exporter": "python",
   "pygments_lexer": "ipython3",
   "version": "3.5.2"
  }
 },
 "nbformat": 4,
 "nbformat_minor": 0
}

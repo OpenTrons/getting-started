{
 "cells": [
  {
   "cell_type": "markdown",
   "metadata": {},
   "source": [
    "# Robot\n",
    "\n",
    "The `robot` module can be thought of as the parent for all aspects of the Opentrons API. All containers, instruments, and protocol commands are added to and controlled by `robot`."
   ]
  },
  {
   "cell_type": "code",
   "execution_count": 1,
   "metadata": {
    "collapsed": true
   },
   "outputs": [],
   "source": [
    "from opentrons import robot, containers, instruments\n",
    "\n",
    "plate = containers.load('96-flat', 'B1')\n",
    "tiprack = containers.load('tiprack-200ul', 'A1')\n",
    "\n",
    "pipette = instruments.Pipette(axis='b', max_volume=200)"
   ]
  },
  {
   "cell_type": "markdown",
   "metadata": {},
   "source": [
    "### Containers\n",
    "\n",
    "When containers are loaded, they are automatically added to the `robot`. You can see all currently held containers by calling `robot.containers()`, which returns a [Python dictionary](https://docs.python.org/3.5/tutorial/datastructures.html#dictionaries)."
   ]
  },
  {
   "cell_type": "code",
   "execution_count": 2,
   "metadata": {
    "collapsed": false
   },
   "outputs": [
    {
     "data": {
      "text/plain": [
       "{'96-flat': <Deck>/<Slot B1>/<Container 96-flat>,\n",
       " 'tiprack-200ul': <Deck>/<Slot A1>/<Container tiprack-200ul>}"
      ]
     },
     "execution_count": 2,
     "metadata": {},
     "output_type": "execute_result"
    }
   ],
   "source": [
    "robot.containers()"
   ]
  },
  {
   "cell_type": "markdown",
   "metadata": {},
   "source": [
    "### Get Instruments\n",
    "\n",
    "When instruments are created, they are automatically added to the `robot`. You can see all currently held instruments by calling `robot.get_instruments()`, which returns a [Python list](https://docs.python.org/3.5/tutorial/datastructures.html#more-on-lists)."
   ]
  },
  {
   "cell_type": "code",
   "execution_count": 3,
   "metadata": {
    "collapsed": false
   },
   "outputs": [
    {
     "data": {
      "text/plain": [
       "[('B', <opentrons.instruments.pipette.Pipette at 0x110901e10>)]"
      ]
     },
     "execution_count": 3,
     "metadata": {},
     "output_type": "execute_result"
    }
   ],
   "source": [
    "robot.get_instruments()"
   ]
  },
  {
   "cell_type": "markdown",
   "metadata": {},
   "source": [
    "### Commands\n",
    "\n",
    "When commands are called on a pipette, they are automatically enqueued to the `robot` in the order they are called. You can see all currently held commands by calling `robot.commands()`, which returns a [Python list](https://docs.python.org/3.5/tutorial/datastructures.html#more-on-lists)."
   ]
  },
  {
   "cell_type": "code",
   "execution_count": 5,
   "metadata": {
    "collapsed": false
   },
   "outputs": [
    {
     "name": "stdout",
     "output_type": "stream",
     "text": [
      "Picking up tip from <Deck>/<Slot A1>/<Container tiprack-200ul>/<Well A1>\n",
      "Drop_tip at <Deck>/<Slot A1>/<Container tiprack-200ul>/<Well A1>\n",
      "Picking up tip from <Deck>/<Slot A1>/<Container tiprack-200ul>/<Well A1>\n",
      "Drop_tip at <Deck>/<Slot A1>/<Container tiprack-200ul>/<Well A1>\n"
     ]
    }
   ],
   "source": [
    "pipette.pick_up_tip(tiprack.wells('A1'))\n",
    "pipette.drop_tip(tiprack.wells('A1'))\n",
    "for c in robot.commands():\n",
    "    print(c)"
   ]
  },
  {
   "cell_type": "markdown",
   "metadata": {},
   "source": [
    "Try running the cell above over and over again, and see what happens... Every time you run that cell, the list of commands should grow larger and larger."
   ]
  },
  {
   "cell_type": "markdown",
   "metadata": {},
   "source": [
    "### Clear Commands\n",
    "\n",
    "Once commands are enqueued to the robot, we can erase those commands by calling `robot.clear_commands()`. Any previously created instruments and containers will still be inside `robot`, but all commands are erased."
   ]
  },
  {
   "cell_type": "code",
   "execution_count": 6,
   "metadata": {
    "collapsed": false
   },
   "outputs": [
    {
     "name": "stdout",
     "output_type": "stream",
     "text": [
      "There is 1 command\n",
      "There are now 0 commands\n"
     ]
    }
   ],
   "source": [
    "robot.clear_commands()\n",
    "pipette.pick_up_tip(tiprack['A1'])\n",
    "print('There is', len(robot.commands()), 'command')\n",
    "\n",
    "robot.clear_commands()\n",
    "print('There are now', len(robot.commands()), 'commands')"
   ]
  },
  {
   "cell_type": "markdown",
   "metadata": {},
   "source": [
    "### Comment\n",
    "\n",
    "You can add a custom message to the list of command descriptions you see when running `robot.commands()`. This command is `robot.comment()`, and it allows you to print out any information you want at the point in your protocol"
   ]
  },
  {
   "cell_type": "code",
   "execution_count": 7,
   "metadata": {
    "collapsed": false
   },
   "outputs": [
    {
     "name": "stdout",
     "output_type": "stream",
     "text": [
      "Picking up tip from <Deck>/<Slot A1>/<Container tiprack-200ul>/<Well A1>\n",
      "Just picked up tip A1\n",
      "Picking up tip from <Deck>/<Slot A1>/<Container tiprack-200ul>/<Well A1>\n",
      "Just dropped tip A1\n"
     ]
    }
   ],
   "source": [
    "robot.clear_commands()\n",
    "\n",
    "pipette.pick_up_tip(tiprack['A1'])\n",
    "robot.comment(\"Just picked up tip A1\")\n",
    "\n",
    "pipette.pick_up_tip(tiprack['A1'])\n",
    "robot.comment(\"Just dropped tip A1\")\n",
    "\n",
    "for c in robot.commands():\n",
    "    print(c)"
   ]
  },
  {
   "cell_type": "markdown",
   "metadata": {},
   "source": [
    "### Simulate\n",
    "\n",
    "Once commands have been enqueued to the `robot`, we can simulate their execution by calling `robot.simulate()`. This helps us debug our protocol, and to see if the robots gives us any warnings."
   ]
  },
  {
   "cell_type": "code",
   "execution_count": 8,
   "metadata": {
    "collapsed": false
   },
   "outputs": [
    {
     "name": "stdout",
     "output_type": "stream",
     "text": [
      "pick_up_tip called with no reference to a tip\n"
     ]
    }
   ],
   "source": [
    "pipette.pick_up_tip()\n",
    "\n",
    "for warning in robot.simulate():\n",
    "    print(warning)"
   ]
  },
  {
   "cell_type": "markdown",
   "metadata": {},
   "source": [
    "What should be printed about above is a warning that our protocol says to pick up a tip, but we have not specified which tip to pick up."
   ]
  },
  {
   "cell_type": "markdown",
   "metadata": {},
   "source": [
    "### Reset\n",
    "\n",
    "Calling `robot.reset()` will remove everything from the robot. Any previously added containers, pipettes, or commands will be erased."
   ]
  },
  {
   "cell_type": "code",
   "execution_count": 9,
   "metadata": {
    "collapsed": false
   },
   "outputs": [
    {
     "name": "stdout",
     "output_type": "stream",
     "text": [
      "{}\n",
      "[]\n",
      "[]\n"
     ]
    }
   ],
   "source": [
    "robot.reset()\n",
    "print(robot.containers())\n",
    "print(robot.get_instruments())\n",
    "print(robot.commands())"
   ]
  },
  {
   "cell_type": "code",
   "execution_count": null,
   "metadata": {
    "collapsed": true
   },
   "outputs": [],
   "source": []
  }
 ],
 "metadata": {
  "anaconda-cloud": {},
  "kernelspec": {
   "display_name": "Python 3",
   "language": "python",
   "name": "python3"
  },
  "language_info": {
   "codemirror_mode": {
    "name": "ipython",
    "version": 3
   },
   "file_extension": ".py",
   "mimetype": "text/x-python",
   "name": "python",
   "nbconvert_exporter": "python",
   "pygments_lexer": "ipython3",
   "version": "3.5.1"
  }
 },
 "nbformat": 4,
 "nbformat_minor": 0
}

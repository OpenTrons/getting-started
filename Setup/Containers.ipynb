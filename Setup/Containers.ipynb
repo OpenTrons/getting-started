{
 "cells": [
  {
   "cell_type": "markdown",
   "metadata": {},
   "source": [
    "# Containers\n",
    "\n",
    "The `containers` module allows you to load common labware into your protocol. <a href=\"https://andysigler.github.io/ot-api-containerviz/\">Go here</a> to see a visualization of all built-in containers."
   ]
  },
  {
   "cell_type": "code",
   "execution_count": 1,
   "metadata": {
    "collapsed": true
   },
   "outputs": [],
   "source": [
    "from opentrons import containers"
   ]
  },
  {
   "cell_type": "markdown",
   "metadata": {},
   "source": [
    "### List\n",
    "\n",
    "Once the `container` module is loaded, you can see a list of all containers currently inside the API by calling `.list()`."
   ]
  },
  {
   "cell_type": "code",
   "execution_count": null,
   "metadata": {
    "collapsed": false
   },
   "outputs": [],
   "source": [
    "containers.list()"
   ]
  },
  {
   "cell_type": "markdown",
   "metadata": {},
   "source": [
    "### Load\n",
    "\n",
    "Labware is loaded with two arguments: **1)** the container type, and **2)** the deck slot it will be placed in on the robot."
   ]
  },
  {
   "cell_type": "code",
   "execution_count": null,
   "metadata": {
    "collapsed": false
   },
   "outputs": [],
   "source": [
    "p = containers.load('96-flat', 'B1')"
   ]
  },
  {
   "cell_type": "markdown",
   "metadata": {},
   "source": [
    "A third optional argument can be used to give a container a unique name."
   ]
  },
  {
   "cell_type": "code",
   "execution_count": null,
   "metadata": {
    "collapsed": false
   },
   "outputs": [],
   "source": [
    "p = containers.load('96-flat', 'B1', 'any-name-you-want')"
   ]
  },
  {
   "cell_type": "markdown",
   "metadata": {},
   "source": [
    "Unique names are useful in a few scenarios. First, they allow the container to have independant calibration data from other containers in the same slot. In the example above, the container named `'any-name-you-want'` will assume different calibration data from the unnamed plate, even though they are the same type and in the same slot.\n",
    "\n",
    "<div class=\"alert alert-warning\" role=\"alert\" style=\"margin: 10px\">\n",
    "<p><strong>NOTE</strong></p>\n",
    "<p>Calibration data refers to the saved positions for each container on deck, and is a part of the <a href=\"https://opentrons.com/getting-started/calibrate-deck\">Opentrons App calibration procedure</a>.</p>\n",
    "</div>\n",
    "\n",
    "Names can also be used to place multiple containers in the same slot all at once. For example, the flasks below are all placed in slot D1. So in order for the Opentrons API to tell them apart, we have given them each a unique name."
   ]
  },
  {
   "cell_type": "code",
   "execution_count": null,
   "metadata": {
    "collapsed": false
   },
   "outputs": [],
   "source": [
    "fa = containers.load('T25-flask', 'D1', 'flask_a')\n",
    "fb = containers.load('T25-flask', 'D1', 'flask_b')\n",
    "fc = containers.load('T25-flask', 'D1', 'flask_c')"
   ]
  },
  {
   "cell_type": "markdown",
   "metadata": {},
   "source": [
    "### Create\n",
    "\n",
    "In addition to the default containers that come with the Opentrons API, you can create your own custom containers.\n",
    "\n",
    "Through the API's call `containers.create()`, you can create simple grid containers, which consist of circular wells arranged in columns and rows."
   ]
  },
  {
   "cell_type": "code",
   "execution_count": null,
   "metadata": {
    "collapsed": false
   },
   "outputs": [],
   "source": [
    "containers.create(\n",
    "    '3x6_plate',                    # name of you container\n",
    "    grid=(3, 6),                    # specify amount of (columns, rows)\n",
    "    spacing=(12, 12),               # distances (mm) between each (column, row)\n",
    "    diameter=5,                     # diameter (mm) of each well on the plate\n",
    "    depth=10)                       # depth (mm) of each well on the plate"
   ]
  },
  {
   "cell_type": "markdown",
   "metadata": {},
   "source": [
    "When you create your custom container, then it will be saved for later use under the name you've given it. This means you can use `containers.load()` to use the custom container you've created in this and any future protocol."
   ]
  },
  {
   "cell_type": "code",
   "execution_count": null,
   "metadata": {
    "collapsed": false
   },
   "outputs": [],
   "source": [
    "custom_plate = containers.load('3x6_plate', 'D1')\n",
    "\n",
    "for well in custom_plate:\n",
    "    print(well)"
   ]
  }
 ],
 "metadata": {
  "anaconda-cloud": {},
  "kernelspec": {
   "display_name": "Python 3",
   "language": "python",
   "name": "python3"
  },
  "language_info": {
   "codemirror_mode": {
    "name": "ipython",
    "version": 3
   },
   "file_extension": ".py",
   "mimetype": "text/x-python",
   "name": "python",
   "nbconvert_exporter": "python",
   "pygments_lexer": "ipython3",
   "version": "3.5.1"
  }
 },
 "nbformat": 4,
 "nbformat_minor": 0
}

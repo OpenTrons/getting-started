{
 "cells": [
  {
   "cell_type": "markdown",
   "metadata": {},
   "source": [
    "# Robot\n",
    "\n",
    "The `robot` module can be thought of as the parent for all aspects of the Opentrons API. All containers, instruments, and protocol commands are added to and controlled by `robot`."
   ]
  },
  {
   "cell_type": "code",
   "execution_count": null,
   "metadata": {
    "collapsed": true
   },
   "outputs": [],
   "source": [
    "from opentrons import robot, containers, instruments"
   ]
  },
  {
   "cell_type": "markdown",
   "metadata": {},
   "source": [
    "### Containers\n",
    "\n",
    "When containers are loaded, they are automatically added to the `robot`. You can see all currently held containers by calling `robot.containers()`, which returns a [Python dictionary](https://docs.python.org/3.5/tutorial/datastructures.html#dictionaries)."
   ]
  },
  {
   "cell_type": "code",
   "execution_count": null,
   "metadata": {
    "collapsed": false
   },
   "outputs": [],
   "source": [
    "plate = containers.load('96-flat', 'B1')\n",
    "print(robot.containers())"
   ]
  },
  {
   "cell_type": "markdown",
   "metadata": {},
   "source": [
    "### Get Instruments\n",
    "\n",
    "When instruments are created, they are automatically added to the `robot`. You can see all currently held instruments by calling `robot.get_instruments()`, which returns a [Python list](https://docs.python.org/3.5/tutorial/datastructures.html#more-on-lists)."
   ]
  },
  {
   "cell_type": "code",
   "execution_count": null,
   "metadata": {
    "collapsed": false
   },
   "outputs": [],
   "source": [
    "pipette = instruments.Pipette(axis='b', max_volume=200)\n",
    "print(robot.get_instruments())"
   ]
  },
  {
   "cell_type": "markdown",
   "metadata": {},
   "source": [
    "### Commands\n",
    "\n",
    "When commands are called on a pipette, they are automatically enqueued to the `robot` in the order they are called. You can see all currently held commands by calling `robot.commands()`, which returns a [Python list](https://docs.python.org/3.5/tutorial/datastructures.html#more-on-lists)."
   ]
  },
  {
   "cell_type": "code",
   "execution_count": null,
   "metadata": {
    "collapsed": false
   },
   "outputs": [],
   "source": [
    "robot.reset()\n",
    "\n",
    "tiprack = containers.load('tiprack-200ul', 'A1')\n",
    "plate = containers.load('96-flat', 'B1')\n",
    "\n",
    "pipette = instruments.Pipette(axis='b', max_volume=200, min_volume=20)\n",
    "\n",
    "pipette.pick_up_tip(tiprack['A1'])\n",
    "pipette.aspirate(10, plate['A1'])\n",
    "pipette.dispense(10, plate['A2'])\n",
    "pipette.drop_tip(tiprack['A1'])\n",
    "\n",
    "for c in robot.commands():\n",
    "    print(c)"
   ]
  },
  {
   "cell_type": "markdown",
   "metadata": {},
   "source": [
    "### Clear Commands\n",
    "\n",
    "Once commands are enqueued to the robot, we can erase those commands by calling `robot.clear_commands()`. Any previously created instruments and containers will still be inside `robot`, but all commands are erased."
   ]
  },
  {
   "cell_type": "code",
   "execution_count": null,
   "metadata": {
    "collapsed": false
   },
   "outputs": [],
   "source": [
    "robot.clear_commands()\n",
    "pipette.pick_up_tip(tiprack['A1'])\n",
    "print(robot.commands())\n",
    "\n",
    "robot.clear_commands()\n",
    "print(robot.commands())"
   ]
  },
  {
   "cell_type": "markdown",
   "metadata": {},
   "source": [
    "### Simulate\n",
    "\n",
    "Once commands have been enqueued to the `robot`, we can simulate their execution by calling `robot.simulate()`. This helps us debug our protocol, and to see if the robots gives us any warnings."
   ]
  },
  {
   "cell_type": "code",
   "execution_count": null,
   "metadata": {
    "collapsed": false
   },
   "outputs": [],
   "source": [
    "robot.simulate()\n",
    "print(robot.get_warnings())"
   ]
  },
  {
   "cell_type": "markdown",
   "metadata": {},
   "source": [
    "What should be printed about above is a warning that our protocol is attempting to move 10uL, which is less than the minimum volume we have previously assigned to our pipette."
   ]
  },
  {
   "cell_type": "markdown",
   "metadata": {},
   "source": [
    "### Reset\n",
    "\n",
    "Calling `robot.reset()` will remove everything from the robot. Any previously added containers, pipettes, or commands will be erased."
   ]
  },
  {
   "cell_type": "code",
   "execution_count": null,
   "metadata": {
    "collapsed": false
   },
   "outputs": [],
   "source": [
    "robot.reset()\n",
    "print(robot.containers())\n",
    "print(robot.get_instruments())\n",
    "print(robot.commands())"
   ]
  }
 ],
 "metadata": {
  "anaconda-cloud": {},
  "kernelspec": {
   "display_name": "Python [default]",
   "language": "python",
   "name": "python3"
  },
  "language_info": {
   "codemirror_mode": {
    "name": "ipython",
    "version": 3
   },
   "file_extension": ".py",
   "mimetype": "text/x-python",
   "name": "python",
   "nbconvert_exporter": "python",
   "pygments_lexer": "ipython3",
   "version": "3.5.2"
  }
 },
 "nbformat": 4,
 "nbformat_minor": 0
}

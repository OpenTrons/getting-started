{
 "cells": [
  {
   "cell_type": "markdown",
   "metadata": {},
   "source": [
    "### Tips Iterating\n",
    "\n",
    "Automatically iterate through tips and drop tip in trash\n",
    "by attaching containers to a pipette"
   ]
  },
  {
   "cell_type": "code",
   "execution_count": null,
   "metadata": {
    "collapsed": true
   },
   "outputs": [],
   "source": [
    "trash = containers.load('point', 'D2')\n",
    "tip_rack_1 = containers.load('tiprack-200ul', 'B1')\n",
    "tip_rack_2 = containers.load('tiprack-200ul', 'B2')\n",
    "\n",
    "pipette = instruments.Pipette(axis='a')\n",
    "\n",
    "pipette_B = instruments.Pipette(\n",
    "    axis='b',\n",
    "    tip_racks=[tip_rack_1, tip_rack_2],\n",
    "    trash_container=trash\n",
    ")\n",
    "\n",
    "pipette_B.pick_up_tip()  # picks up tip_rack_1:A1\n",
    "pipette_B.return_tip()\n",
    "pipette_B.pick_up_tip()  # picks up tip_rack_1:A2\n",
    "pipette_B.drop_tip()     # automatically drops in trash\n",
    "\n",
    "# use loop to pick up tips tip_rack_1:A3 through tip_rack_2:H12\n",
    "for i in range(94 + 96):\n",
    "    pipette_B.pick_up_tip()\n",
    "    pipette_B.return_tip()\n"
   ]
  }
 ],
 "metadata": {
  "anaconda-cloud": {},
  "kernelspec": {
   "display_name": "Python [default]",
   "language": "python",
   "name": "python3"
  },
  "language_info": {
   "codemirror_mode": {
    "name": "ipython",
    "version": 3
   },
   "file_extension": ".py",
   "mimetype": "text/x-python",
   "name": "python",
   "nbconvert_exporter": "python",
   "pygments_lexer": "ipython3",
   "version": "3.5.2"
  }
 },
 "nbformat": 4,
 "nbformat_minor": 0
}

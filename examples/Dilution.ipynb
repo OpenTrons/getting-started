{
 "cells": [
  {
   "cell_type": "code",
   "execution_count": null,
   "metadata": {
    "collapsed": false
   },
   "outputs": [],
   "source": [
    "from opentrons import robot, containers, instruments\n",
    "\n",
    "# plate for output, and trough for sample and buffer sources\n",
    "plate = containers.load('96-flat', 'B1')\n",
    "trough = containers.load('trough-12row', 'A1')\n",
    "\n",
    "# tip racks and trash for our pipettes\n",
    "tiprack_10 = containers.load('tiprack-10ul', 'A1')\n",
    "tiprack_200 = containers.load('tiprack-200ul', 'A2')\n",
    "trash = containers.load('point', 'D2')\n",
    "\n",
    "# create a multi-channel 200uL pipette\n",
    "m200 = instruments.Pipette(\n",
    "    axis='a',\n",
    "    max_volume=200,\n",
    "    tip_racks=[tiprack_200],\n",
    "    trash_container=trash,\n",
    "    channels=8)\n",
    "\n",
    "# create a single-channel 200uL pipette\n",
    "p200 = instruments.Pipette(\n",
    "    axis='b',\n",
    "    max_volume=200,\n",
    "    tip_racks=[tiprack_10],\n",
    "    trash_container=trash)"
   ]
  },
  {
   "cell_type": "code",
   "execution_count": null,
   "metadata": {
    "collapsed": false
   },
   "outputs": [],
   "source": [
    "# distribute the sample across row 1 of the plate\n",
    "p10.distribute(20, trough.wells('A1'), plate.rows('1'))\n",
    "\n",
    "# add 100ul of buffer to the plate rows 2-12\n",
    "m200.distribute(100, trough.wells('A2'), plate.rows('2', to='12'))\n",
    "\n",
    "# dilute the sample, transferring from one well to the next\n",
    "m200.transfer(\n",
    "    20,\n",
    "    plate.rows('1', to='11'),\n",
    "    plate.rows('2', to='12'),\n",
    "    mix_after=(3, 100))"
   ]
  }
 ],
 "metadata": {
  "anaconda-cloud": {},
  "kernelspec": {
   "display_name": "Python [default]",
   "language": "python",
   "name": "python3"
  },
  "language_info": {
   "codemirror_mode": {
    "name": "ipython",
    "version": 3
   },
   "file_extension": ".py",
   "mimetype": "text/x-python",
   "name": "python",
   "nbconvert_exporter": "python",
   "pygments_lexer": "ipython3",
   "version": "3.5.2"
  }
 },
 "nbformat": 4,
 "nbformat_minor": 1
}

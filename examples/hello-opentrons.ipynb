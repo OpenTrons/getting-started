{
 "cells": [
  {
   "cell_type": "markdown",
   "metadata": {},
   "source": [
    "<hr></hr>\n",
    "\n",
    "# Hello Opentrons\n",
    "\n",
    "Below is an example of a basic protocol to run on your liquid handler, which transfers 100uL from one well of a plate to the next.\n",
    "\n",
    "<div class=\"alert alert-warning\" role=\"alert\" style=\"margin: 10px\">\n",
    "<p><strong>NOTE</strong></p>\n",
    "<p>If you are unfamiliar with Python and find the below example hard to read, please go through an <a href=\"https://wiki.python.org/moin/BeginnersGuide/NonProgrammers\">introduction to Python tutorial</a> before moving forward with this guide, as it will allow you to better understand the Opentrons API.</p>\n",
    "</div>"
   ]
  },
  {
   "cell_type": "code",
   "execution_count": null,
   "metadata": {
    "collapsed": false
   },
   "outputs": [],
   "source": [
    "from opentrons import containers, instruments\n",
    "\n",
    "tiprack = containers.load('tiprack-200ul', 'A1')\n",
    "plate = containers.load('96-flat', 'B1')\n",
    "\n",
    "pipette = instruments.Pipette(axis='b', max_volume=200)\n",
    "\n",
    "pipette.pick_up_tip(tiprack.wells('A1'))\n",
    "pipette.aspirate(100, plate.wells('A1'))\n",
    "pipette.dispense(100, plate.wells('A2'))\n",
    "pipette.drop_tip(tiprack.wells('A1'))"
   ]
  },
  {
   "cell_type": "markdown",
   "metadata": {},
   "source": [
    "### Human Readable\n",
    "\n",
    "The design goal of the Opentrons API is to make code readable and easy to understand. If we were to read the above code example as if it were in plain English, it would look like the following:\n",
    "\n",
    "```\n",
    "Import the Opentrons API's containers and instruments.\n",
    "\n",
    "Load a 200uL tip rack, placing it in slot `A1`, and name it \"tiprack\".\n",
    "Load in a 96 well plate, placing it in slot `B1`, and name it \"plate\".\n",
    "\n",
    "Create a 200uL pipette, attach it to axis `b` on the robot, and name it \"pipette\".\n",
    "\n",
    "Pick up a tip from the tiprack's `A1` position.\n",
    "Aspirate 100uL from the plate's `A1` well.\n",
    "Dispense 100uL to the plate's `A2` well.\n",
    "Drop the tip back to the tiprack's `A1` position.\n",
    "```"
   ]
  }
 ],
 "metadata": {
  "anaconda-cloud": {},
  "kernelspec": {
   "display_name": "Python [default]",
   "language": "python",
   "name": "python3"
  },
  "language_info": {
   "codemirror_mode": {
    "name": "ipython",
    "version": 3
   },
   "file_extension": ".py",
   "mimetype": "text/x-python",
   "name": "python",
   "nbconvert_exporter": "python",
   "pygments_lexer": "ipython3",
   "version": "3.5.2"
  }
 },
 "nbformat": 4,
 "nbformat_minor": 0
}

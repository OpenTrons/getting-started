{
 "cells": [
  {
   "cell_type": "markdown",
   "metadata": {},
   "source": [
    "# Tips Iterating\n",
    "\n",
    "Automatically iterate through tips and drop tip in trash\n",
    "by attaching containers to a pipette"
   ]
  },
  {
   "cell_type": "code",
   "execution_count": null,
   "metadata": {
    "collapsed": true
   },
   "outputs": [],
   "source": [
    "from opentrons import containers, instruments\n",
    "\n",
    "trash = containers.load('point', 'D2')\n",
    "tip_rack_1 = containers.load('tiprack-200ul', 'B1')\n",
    "tip_rack_2 = containers.load('tiprack-200ul', 'B2')"
   ]
  },
  {
   "cell_type": "markdown",
   "metadata": {},
   "source": [
    "<hr></hr>\n",
    "\n",
    "## Attaching Containers to a Pipette\n",
    "\n",
    "Tip racks and trash containers can be \"attached\" to a pipette when the pipette is created. This give the pipette the ability to automatically iterate through tips, and to automatically send the tip to the trash container.\n",
    "\n",
    "Trash containers can be attached with the option `trash_container=TRASH_CONTAINER`.\n",
    "\n",
    "Multiple tip racks are can be attached with the option `tip_racks=[RACK_1, RACK_2, etc... ]`."
   ]
  },
  {
   "cell_type": "code",
   "execution_count": null,
   "metadata": {
    "collapsed": true
   },
   "outputs": [],
   "source": [
    "pipette = instruments.Pipette(\n",
    "    axis='b',\n",
    "    tip_racks=[tip_rack_1, tip_rack_2],\n",
    "    trash_container=trash\n",
    ")"
   ]
  },
  {
   "cell_type": "markdown",
   "metadata": {},
   "source": [
    "<div class=\"alert alert-warning\" role=\"alert\" style=\"margin: 10px\">\n",
    "<p><strong>NOTE</strong></p>\n",
    "<p>The <code>tip_racks=</code> option expects us to give it a [Python list](https://docs.python.org/3.5/tutorial/datastructures.html#more-on-lists), containing each tip rack we want to attach. If we are only attaching one tip rack, then the list will have a length of one, like the following:</p>\n",
    "<p><code>tip_racks=[tiprack]</code></p>\n",
    "</div>"
   ]
  },
  {
   "cell_type": "markdown",
   "metadata": {},
   "source": [
    "<hr></hr>\n",
    "\n",
    "## Iterating Through Tips\n",
    "\n",
    "Now that we have two tip racks attached to the pipette, we can automatically step through each tip whenever we call `pick_up_tip()`. We then have the option to either `return_tip()` to the tip rack, or we can `drop_tip()` to remove the tip in the attached trash container."
   ]
  },
  {
   "cell_type": "code",
   "execution_count": null,
   "metadata": {
    "collapsed": true
   },
   "outputs": [],
   "source": [
    "pipette.pick_up_tip()  # picks up tip_rack_1:A1\n",
    "pipette.return_tip()\n",
    "pipette.pick_up_tip()  # picks up tip_rack_1:A2\n",
    "pipette.drop_tip()     # automatically drops in trash\n",
    "\n",
    "# use loop to pick up tips tip_rack_1:A3 through tip_rack_2:H12\n",
    "for i in range(94 + 96):\n",
    "    pipette.pick_up_tip()\n",
    "    pipette.return_tip()"
   ]
  },
  {
   "cell_type": "markdown",
   "metadata": {},
   "source": [
    "If we try to `pick_up_tip()` again when all the tips have been used, the Opentrons API will show you an error.\n",
    "\n",
    "<div class=\"alert alert-warning\" role=\"alert\" style=\"margin: 10px\">\n",
    "<p><strong>NOTE</strong></p>\n",
    "<p>If you run the cell above, and then uncomment and run the cell below, you will get an error because the pipette is out of tips.</p>\n",
    "</div>"
   ]
  },
  {
   "cell_type": "code",
   "execution_count": null,
   "metadata": {
    "collapsed": false
   },
   "outputs": [],
   "source": [
    "# pipette.pick_up_tip()  # this will raise an exception"
   ]
  },
  {
   "cell_type": "markdown",
   "metadata": {},
   "source": [
    "<hr></hr>\n",
    "\n",
    "## Select Starting Tip\n",
    "\n",
    "Calls to `pick_up_tip()` will by default start at the attached tip rack's `A1` location. If you however want to start automatic tip iterating at a different tip, you can use `start_at_tip()`."
   ]
  },
  {
   "cell_type": "code",
   "execution_count": null,
   "metadata": {
    "collapsed": false
   },
   "outputs": [],
   "source": [
    "pipette.reset()\n",
    "\n",
    "pipette.start_at_tip(tip_rack_1['C3'])\n",
    "pipette.pick_up_tip()  # pick up C3 from \"tip_rack_1\"\n",
    "pipette.return_tip()"
   ]
  },
  {
   "cell_type": "markdown",
   "metadata": {},
   "source": [
    "<hr></hr>\n",
    "\n",
    "## Get Current Tip's Origin\n",
    "\n",
    "Get the source location of the pipette's current tip by calling `.current_tip()`. If the tip was from the `'A1'` position on our tip rack, `.current_tip()` will return that position."
   ]
  },
  {
   "cell_type": "code",
   "execution_count": null,
   "metadata": {
    "collapsed": false
   },
   "outputs": [],
   "source": [
    "print(pipette.current_tip())  # is holding no tip\n",
    "\n",
    "pipette.pick_up_tip()\n",
    "print(pipette.current_tip())  # is holding the next available tip\n",
    "\n",
    "pipette.return_tip()\n",
    "print(pipette.current_tip())  # is holding no tip"
   ]
  }
 ],
 "metadata": {
  "anaconda-cloud": {},
  "kernelspec": {
   "display_name": "Python 3",
   "language": "python",
   "name": "python3"
  },
  "language_info": {
   "codemirror_mode": {
    "name": "ipython",
    "version": 3
   },
   "file_extension": ".py",
   "mimetype": "text/x-python",
   "name": "python",
   "nbconvert_exporter": "python",
   "pygments_lexer": "ipython3",
   "version": "3.5.1"
  }
 },
 "nbformat": 4,
 "nbformat_minor": 0
}

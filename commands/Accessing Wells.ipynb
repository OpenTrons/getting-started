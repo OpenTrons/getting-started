{
 "cells": [
  {
   "cell_type": "markdown",
   "metadata": {},
   "source": [
    "# Access Wells\n",
    "\n",
    "When writing a protocol using the API, you will be spending most of your time selecting which wells to transfer liquids to and from.\n",
    "\n",
    "The following examples require the plate loaded below"
   ]
  },
  {
   "cell_type": "code",
   "execution_count": null,
   "metadata": {
    "collapsed": false
   },
   "outputs": [],
   "source": [
    "from opentrons import containers\n",
    "\n",
    "plate = containers.load('96-flat', 'A1')"
   ]
  },
  {
   "cell_type": "markdown",
   "metadata": {},
   "source": [
    "<hr></hr>\n",
    "\n",
    "## Individual Wells\n",
    "\n",
    "Once a container is loaded into your protocol, you can easily access the many wells within it using `.wells()` method. `.wells()` takes the name of the well as an argument, and will return the well at that location."
   ]
  },
  {
   "cell_type": "code",
   "execution_count": null,
   "metadata": {
    "collapsed": false
   },
   "outputs": [],
   "source": [
    "plate.wells('A1')"
   ]
  },
  {
   "cell_type": "code",
   "execution_count": null,
   "metadata": {
    "collapsed": false
   },
   "outputs": [],
   "source": [
    "plate.wells('H12')"
   ]
  },
  {
   "cell_type": "markdown",
   "metadata": {
    "collapsed": false
   },
   "source": [
    "Wells can be referenced by their \"string\" name, as demonstrated above. However, they can also be referenced with zero-indexing, with the first well in a container being at position `0`."
   ]
  },
  {
   "cell_type": "code",
   "execution_count": null,
   "metadata": {
    "collapsed": false
   },
   "outputs": [],
   "source": [
    "plate.wells(0)   # well A1"
   ]
  },
  {
   "cell_type": "code",
   "execution_count": null,
   "metadata": {
    "collapsed": false
   },
   "outputs": [],
   "source": [
    "plate.wells(95)  # well H12"
   ]
  },
  {
   "cell_type": "code",
   "execution_count": null,
   "metadata": {
    "collapsed": false
   },
   "outputs": [],
   "source": [
    "plate.wells(-1)  # well H12 (Python let's you do this)"
   ]
  },
  {
   "cell_type": "markdown",
   "metadata": {},
   "source": [
    "<hr></hr>\n",
    "\n",
    "## Columns and Rows\n",
    "\n",
    "A container's wells are organized within a series of columns and rows, which are also labelled on standard labware. In the API, columns are given letter names (`'A'` through `'H'` for example) and go left to right, while rows are given numbered names (`'1'` through `'8'` for example) and go from front to back.\n",
    "\n",
    "You can access a specific row or column by using the `.rows()` and `.cols()` methods on a container. These will return all wells within that row or column."
   ]
  },
  {
   "cell_type": "code",
   "execution_count": null,
   "metadata": {
    "collapsed": false
   },
   "outputs": [],
   "source": [
    "column = plate.cols('A')\n",
    "row = plate.rows('1')\n",
    "\n",
    "print('Column \"A\" has', len(column), 'wells')\n",
    "print('Row \"1\" has', len(row), 'wells')"
   ]
  },
  {
   "cell_type": "markdown",
   "metadata": {},
   "source": [
    "The `.rows()` or `.cols()` methods can be used in combination with the `.wells()` method to access wells within that row or column."
   ]
  },
  {
   "cell_type": "code",
   "execution_count": null,
   "metadata": {
    "collapsed": false
   },
   "outputs": [],
   "source": [
    "plate.cols('A').wells('1')"
   ]
  },
  {
   "cell_type": "code",
   "execution_count": null,
   "metadata": {
    "collapsed": false
   },
   "outputs": [],
   "source": [
    "plate.rows('1').wells('A')"
   ]
  }
 ],
 "metadata": {
  "kernelspec": {
   "display_name": "Python 3",
   "language": "python",
   "name": "python3"
  },
  "language_info": {
   "codemirror_mode": {
    "name": "ipython",
    "version": 3
   },
   "file_extension": ".py",
   "mimetype": "text/x-python",
   "name": "python",
   "nbconvert_exporter": "python",
   "pygments_lexer": "ipython3",
   "version": "3.5.1"
  }
 },
 "nbformat": 4,
 "nbformat_minor": 1
}

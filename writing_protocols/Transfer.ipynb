{
 "cells": [
  {
   "cell_type": "markdown",
   "metadata": {},
   "source": [
    "# Transfer\n",
    "\n",
    "The `.transfer()` command is built up from other API commands (like `.aspirate()`, `.dispense()`, and `.drop_tip()`), and allows you to describe the movement of liquids with less words and loops."
   ]
  },
  {
   "cell_type": "code",
   "execution_count": null,
   "metadata": {
    "collapsed": true
   },
   "outputs": [],
   "source": [
    "from opentrons import robot, containers, instruments\n",
    "\n",
    "tiprack = containers.load('tiprack-200ul', 'A1')\n",
    "trash = containers.load('point', 'D2')\n",
    "plate = containers.load('96-flat', 'B1')\n",
    "\n",
    "pipette = instruments.Pipette(\n",
    "    axis='b',\n",
    "    max_volume=200,\n",
    "    tip_racks=[tiprack],\n",
    "    trash_container=trash)"
   ]
  },
  {
   "cell_type": "markdown",
   "metadata": {},
   "source": [
    "### One to One\n",
    "\n",
    "The most basic usage of is to transfer a certain volume (uL) from a source well to a destination well."
   ]
  },
  {
   "cell_type": "code",
   "execution_count": null,
   "metadata": {
    "collapsed": false
   },
   "outputs": [],
   "source": [
    "robot.clear_commands()\n",
    "\n",
    "pipette.transfer(100, plate['A1'], plate['B1'])\n",
    "\n",
    "for c in robot.commands():\n",
    "    print(c)"
   ]
  },
  {
   "cell_type": "markdown",
   "metadata": {},
   "source": [
    "If the volume is larger than the pipette's `max_volume`, the `.transfer()` command will automatically break it up into smaller transfers for you."
   ]
  },
  {
   "cell_type": "code",
   "execution_count": null,
   "metadata": {
    "collapsed": false
   },
   "outputs": [],
   "source": [
    "robot.clear_commands()\n",
    "\n",
    "pipette.transfer(800, plate['A2'], plate['B2'])\n",
    "\n",
    "for c in robot.commands():\n",
    "    print(c)"
   ]
  },
  {
   "cell_type": "markdown",
   "metadata": {},
   "source": [
    "### Many to Many\n",
    "\n",
    "The `.transfer()` command can also be used to move liquid between groups of wells, by using lists of wells as your `source` and `destination`.\n",
    "\n",
    "<div class=\"alert alert-warning\" role=\"alert\" style=\"margin: 10px\">\n",
    "<p><strong>NOTE</strong></p>\n",
    "<p>When transferring liquids between lists of well, the lists musts be of the same length. The <code>.transfer()</code> command will now know what to do if there are different amounts of source and destination wells.</p>\n",
    "</div>"
   ]
  },
  {
   "cell_type": "code",
   "execution_count": null,
   "metadata": {
    "collapsed": false
   },
   "outputs": [],
   "source": [
    "robot.clear_commands()\n",
    "\n",
    "pipette.transfer(100, plate.rows['1'], plate.rows['2'])\n",
    "\n",
    "for c in robot.commands():\n",
    "    print(c)"
   ]
  },
  {
   "cell_type": "markdown",
   "metadata": {},
   "source": [
    "The volumes can also be a list of numbers (with same length and sources/destinations)."
   ]
  },
  {
   "cell_type": "code",
   "execution_count": null,
   "metadata": {
    "collapsed": false
   },
   "outputs": [],
   "source": [
    "robot.clear_commands()\n",
    "\n",
    "volumes = [10, 20, 30, 40, 50, 60, 70, 80]\n",
    "pipette.transfer(volumes, plate.rows['3'], plate.rows['4'])\n",
    "\n",
    "for c in robot.commands():\n",
    "    print(c)"
   ]
  },
  {
   "cell_type": "markdown",
   "metadata": {},
   "source": [
    "### Handling Tips"
   ]
  },
  {
   "cell_type": "code",
   "execution_count": null,
   "metadata": {
    "collapsed": true
   },
   "outputs": [],
   "source": [
    "pipette.transfer(50, plate.rows['2'], plate.rows['3'], new_tips='once')"
   ]
  },
  {
   "cell_type": "code",
   "execution_count": null,
   "metadata": {
    "collapsed": true
   },
   "outputs": [],
   "source": [
    "pipette.transfer(50, plate.rows['3'], plate.rows['4'], new_tips='never')"
   ]
  },
  {
   "cell_type": "code",
   "execution_count": null,
   "metadata": {
    "collapsed": false
   },
   "outputs": [],
   "source": [
    "pipette.transfer(50, plate.rows['4'], plate.rows['5'], new_tips='every')"
   ]
  },
  {
   "cell_type": "code",
   "execution_count": null,
   "metadata": {
    "collapsed": false
   },
   "outputs": [],
   "source": [
    "pipette.transfer(50, plate.rows['4'], plate.rows['5'], trash=False)"
   ]
  },
  {
   "cell_type": "markdown",
   "metadata": {},
   "source": [
    "### Other Options"
   ]
  },
  {
   "cell_type": "code",
   "execution_count": null,
   "metadata": {
    "collapsed": true
   },
   "outputs": [],
   "source": [
    "pipette.transfer(100, plate.rows['1'], plate.rows['2'], touch_tip=True)"
   ]
  },
  {
   "cell_type": "code",
   "execution_count": null,
   "metadata": {
    "collapsed": true
   },
   "outputs": [],
   "source": [
    "pipette.transfer(100, plate.rows['1'], plate.rows['2'], blow_out=True)"
   ]
  },
  {
   "cell_type": "code",
   "execution_count": null,
   "metadata": {
    "collapsed": true
   },
   "outputs": [],
   "source": [
    "pipette.transfer(100, plate.rows['1'], plate.rows['2'], mix_before=(2, 50))"
   ]
  },
  {
   "cell_type": "code",
   "execution_count": null,
   "metadata": {
    "collapsed": true
   },
   "outputs": [],
   "source": [
    "pipette.transfer(100, plate.rows['1'], plate.rows['2'], mix_after=(2, 50))"
   ]
  },
  {
   "cell_type": "code",
   "execution_count": null,
   "metadata": {
    "collapsed": true
   },
   "outputs": [],
   "source": [
    "pipette.transfer(100, plate.rows['1'], plate.rows['2'], air_gap=20)"
   ]
  }
 ],
 "metadata": {
  "anaconda-cloud": {},
  "kernelspec": {
   "display_name": "Python 3",
   "language": "python",
   "name": "python3"
  },
  "language_info": {
   "codemirror_mode": {
    "name": "ipython",
    "version": 3
   },
   "file_extension": ".py",
   "mimetype": "text/x-python",
   "name": "python",
   "nbconvert_exporter": "python",
   "pygments_lexer": "ipython3",
   "version": "3.5.1"
  }
 },
 "nbformat": 4,
 "nbformat_minor": 1
}

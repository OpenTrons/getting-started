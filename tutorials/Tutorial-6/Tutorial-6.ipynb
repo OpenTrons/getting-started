{
 "cells": [
  {
   "cell_type": "markdown",
   "metadata": {},
   "source": [
    "# Accessing Multiple Wells\n",
    "\n",
    "If we had to reference each well one at a time, our protocols could get very very long.\n",
    "\n",
    "When describing a liquid transfer, we can point to groups of wells for the liquid's source and/or destination. Or, we can get a group of wells that we want to loop through.\n",
    "\n",
    "The following methods are designed to help you create sub-groups of wells for your protocols to act upon."
   ]
  },
  {
   "cell_type": "code",
   "execution_count": null,
   "metadata": {
    "collapsed": true
   },
   "outputs": [],
   "source": [
    "'''\n",
    "Run this cell to setup the tutorial\n",
    "'''\n",
    "from opentrons import containers\n",
    "\n",
    "plate = containers.load('96-flat', 'B1')"
   ]
  },
  {
   "cell_type": "markdown",
   "metadata": {},
   "source": [
    "<hr></hr>\n",
    "\n",
    "## Wells\n",
    "\n",
    "The `.wells()` method can return a single well, or it can return a list of wells when multiple arguments are passed.\n",
    "\n",
    "Here is an example or accessing a list of wells, each specified by name:"
   ]
  },
  {
   "cell_type": "code",
   "execution_count": null,
   "metadata": {
    "collapsed": false
   },
   "outputs": [],
   "source": [
    "plate.wells('A1', 'B2', 'C3', 'H12')"
   ]
  },
  {
   "cell_type": "markdown",
   "metadata": {},
   "source": [
    "<hr></hr>\n",
    "\n",
    "## Wells To\n",
    "\n",
    "Instead of having to list the name of every well, we can also create a range of wells with a start and end point. The first argument is the starting well, and the `to=` argument is the last well."
   ]
  },
  {
   "cell_type": "code",
   "execution_count": null,
   "metadata": {
    "collapsed": false
   },
   "outputs": [],
   "source": [
    "for well in plate.wells('A1', to='H1'):\n",
    "    print(well)"
   ]
  },
  {
   "cell_type": "markdown",
   "metadata": {},
   "source": [
    "Not only can we get every well between the start and end positions, but we can also set the `step=` size. The example below will access every 2nd well between `'A1'` and `'H'`:"
   ]
  },
  {
   "cell_type": "code",
   "execution_count": null,
   "metadata": {
    "collapsed": false
   },
   "outputs": [],
   "source": [
    "for well in plate.wells('A1', to='H1', step=2):\n",
    "    print(well)"
   ]
  },
  {
   "cell_type": "markdown",
   "metadata": {},
   "source": [
    "These lists of wells can also move in the reverse direction along your container. For example, setting the `to=` argument to a well that comes before the starting position is allowed:"
   ]
  },
  {
   "cell_type": "code",
   "execution_count": null,
   "metadata": {
    "collapsed": false,
    "scrolled": true
   },
   "outputs": [],
   "source": [
    "for well in plate.wells('H1', to='A1', step=2):\n",
    "    print(well)"
   ]
  },
  {
   "cell_type": "markdown",
   "metadata": {},
   "source": [
    "<hr></hr>\n",
    "\n",
    "## Wells Length\n",
    "\n",
    "Another way you can create a list of wells is by specifying the `length=` of the well list you need, in addition to the starting point. The example below will return eight wells, starting at well `'A1'`:"
   ]
  },
  {
   "cell_type": "code",
   "execution_count": null,
   "metadata": {
    "collapsed": false
   },
   "outputs": [],
   "source": [
    "for well in plate.wells('A1', length=8):\n",
    "    print(well)"
   ]
  },
  {
   "cell_type": "markdown",
   "metadata": {},
   "source": [
    "And just like before, we can also set the `step=` argument. Except this time the example will be accessing every 3rd well, until a total of eight wells have been found:"
   ]
  },
  {
   "cell_type": "code",
   "execution_count": null,
   "metadata": {
    "collapsed": false
   },
   "outputs": [],
   "source": [
    "for well in plate.wells('A1', length=8, step=3):\n",
    "    print(well)"
   ]
  },
  {
   "cell_type": "markdown",
   "metadata": {},
   "source": [
    "You can set the `step=` value to a negative number to move in the reverse direction along the container:"
   ]
  },
  {
   "cell_type": "code",
   "execution_count": null,
   "metadata": {
    "collapsed": false
   },
   "outputs": [],
   "source": [
    "for well in plate.wells('H11', length=8, step=-1):\n",
    "    print(well)"
   ]
  },
  {
   "cell_type": "markdown",
   "metadata": {},
   "source": [
    "<hr></hr>\n",
    "\n",
    "## Columns and Rows\n",
    "\n",
    "The same arguments described above can be used with `.rows()` and `.cols()` to create lists of rows or columns."
   ]
  },
  {
   "cell_type": "code",
   "execution_count": null,
   "metadata": {
    "collapsed": false
   },
   "outputs": [],
   "source": [
    "for row in plate.rows('2', length=3, step=-2):\n",
    "    print(row)"
   ]
  },
  {
   "cell_type": "code",
   "execution_count": null,
   "metadata": {
    "collapsed": false
   },
   "outputs": [],
   "source": [
    "for column in plate.cols('B', to='F', step=2):\n",
    "    print(column)"
   ]
  },
  {
   "cell_type": "markdown",
   "metadata": {},
   "source": [
    "<hr></hr>\n",
    "\n",
    "## Slices\n",
    "\n",
    "Containers can also be treating similarly to Python lists, and can therefore handle slices."
   ]
  },
  {
   "cell_type": "code",
   "execution_count": null,
   "metadata": {
    "collapsed": false
   },
   "outputs": [],
   "source": [
    "for well in plate[0:8:2]:\n",
    "    print(well)"
   ]
  },
  {
   "cell_type": "markdown",
   "metadata": {},
   "source": [
    "The API's containers are also prepared to take string values for the slice's `start` and `stop` positions."
   ]
  },
  {
   "cell_type": "code",
   "execution_count": null,
   "metadata": {
    "collapsed": false
   },
   "outputs": [],
   "source": [
    "for well in plate['A1':'A2':2]:\n",
    "    print(well)"
   ]
  },
  {
   "cell_type": "code",
   "execution_count": null,
   "metadata": {
    "collapsed": false
   },
   "outputs": [],
   "source": [
    "for well in plate.cols['B']['1'::2]:\n",
    "    print(well)"
   ]
  }
 ],
 "metadata": {
  "anaconda-cloud": {},
  "kernelspec": {
   "display_name": "Python 3",
   "language": "python",
   "name": "python3"
  },
  "language_info": {
   "codemirror_mode": {
    "name": "ipython",
    "version": 3
   },
   "file_extension": ".py",
   "mimetype": "text/x-python",
   "name": "python",
   "nbconvert_exporter": "python",
   "pygments_lexer": "ipython3",
   "version": "3.5.1"
  }
 },
 "nbformat": 4,
 "nbformat_minor": 1
}

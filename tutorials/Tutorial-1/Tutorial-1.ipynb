{
 "cells": [
  {
   "cell_type": "markdown",
   "metadata": {},
   "source": [
    "# Using Jupyter\n",
    "\n",
    "<hr></hr>\n",
    "\n",
    "## Running Code\n",
    "\n",
    "Jupyter Notebooks are built up of cells, and a cell is the boxes that hold Python code.\n",
    "\n",
    "To run the code in a cell, first highlight the cell by clicking it. Then, run the cell by either:\n",
    "  1. pressing the <span style=\"border:1px solid #ccc; padding:2px 8px; border-radius:2px; font-size=13px\"><i class=\"fa-step-forward fa\"></i></span> arrow button in the toolbar above.\n",
    "  2. holding **`Shift`** then pressing the **`Enter`** key\n",
    "  \n",
    "Try running the cell below, and you should see a message appear in the cell's output...\n"
   ]
  },
  {
   "cell_type": "code",
   "execution_count": null,
   "metadata": {
    "collapsed": false
   },
   "outputs": [],
   "source": [
    "print('Hello Opentrons')"
   ]
  },
  {
   "cell_type": "markdown",
   "metadata": {},
   "source": [
    "<hr></hr>\n",
    "\n",
    "## Handling Errors\n",
    "\n",
    "When writing Python, you will encounter errors in your code.\n",
    "\n",
    "For example, run the cell below to see what errors it contains:"
   ]
  },
  {
   "cell_type": "code",
   "execution_count": null,
   "metadata": {
    "collapsed": false
   },
   "outputs": [],
   "source": [
    "print(my_name)"
   ]
  },
  {
   "cell_type": "markdown",
   "metadata": {},
   "source": [
    "The error above is that the variable **`my_name`** has not been assigned to any value. The cell below has fixed the error by assigning the variable to a string `\"Opentrons\"`"
   ]
  },
  {
   "cell_type": "code",
   "execution_count": null,
   "metadata": {
    "collapsed": false
   },
   "outputs": [],
   "source": [
    "my_name = 'Opentrons'\n",
    "print(my_name)"
   ]
  },
  {
   "cell_type": "markdown",
   "metadata": {},
   "source": [
    "When Opentrons API commands cause errors, sometimes the simple solution is to restart the Jupyter Kernel.\n",
    "\n",
    "From the toolbar above, select **`Kernel >> Restart & Clear Output`**, and the your notebook will be as if you just opened it.\n",
    "\n",
    "<div class=\"alert alert-warning\" role=\"alert\" style=\"margin: 10px\">\n",
    "<p><strong>NOTE</strong></p>\n",
    "<p>Restarting the Kernel will undo any code you have run thus far, and you will need to go through and re-run the cells.</p>\n",
    "</div>"
   ]
  },
  {
   "cell_type": "markdown",
   "metadata": {},
   "source": [
    "<hr></hr>\n",
    "\n",
    "## Install Opentrons API\n",
    "\n",
    "Try running the below cell, which will attemp to load the Opentrons API into the Jupyter Kernel:"
   ]
  },
  {
   "cell_type": "code",
   "execution_count": null,
   "metadata": {
    "collapsed": false
   },
   "outputs": [],
   "source": [
    "import opentrons"
   ]
  },
  {
   "cell_type": "markdown",
   "metadata": {},
   "source": [
    "If you are getting an error, that means the API has not been installed yet for this Jupyter Kernel.\n",
    "\n",
    "To install, run the cell below to download and install the API. Afterwards, you must run **`Kernel >> Restart & Clear Output`** to have the installation take effect."
   ]
  },
  {
   "cell_type": "code",
   "execution_count": null,
   "metadata": {
    "collapsed": false
   },
   "outputs": [],
   "source": [
    "!pip install opentrons"
   ]
  },
  {
   "cell_type": "markdown",
   "metadata": {},
   "source": [
    "If you have already installed the API and wish to update it to the most recent version, run the following command:"
   ]
  },
  {
   "cell_type": "code",
   "execution_count": null,
   "metadata": {
    "collapsed": false
   },
   "outputs": [],
   "source": [
    "!pip install opentrons --upgrade"
   ]
  },
  {
   "cell_type": "markdown",
   "metadata": {},
   "source": [
    "After installation or updating the API, you must run **`Kernel >> Restart & Clear Output`** to have the installation take effect.\n",
    "\n",
    "Once installed and the kernal is restarted, the below cell should run without error."
   ]
  },
  {
   "cell_type": "code",
   "execution_count": null,
   "metadata": {
    "collapsed": false
   },
   "outputs": [],
   "source": [
    "import opentrons"
   ]
  }
 ],
 "metadata": {
  "anaconda-cloud": {},
  "kernelspec": {
   "display_name": "Python [default]",
   "language": "python",
   "name": "python3"
  },
  "language_info": {
   "codemirror_mode": {
    "name": "ipython",
    "version": 3
   },
   "file_extension": ".py",
   "mimetype": "text/x-python",
   "name": "python",
   "nbconvert_exporter": "python",
   "pygments_lexer": "ipython3",
   "version": "3.5.2"
  }
 },
 "nbformat": 4,
 "nbformat_minor": 0
}

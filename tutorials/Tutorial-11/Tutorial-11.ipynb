{
 "cells": [
  {
   "cell_type": "markdown",
   "metadata": {},
   "source": [
    "# Transfer\n",
    "\n",
    "Most of time, a protocol is really just looping over some wells, aspirating, and then dispensing. Even though they are simple in nature, these loops take up a lot of space. The **`pipette.transfer()`** command takes care of those common loops. It will combine aspirates and dispenses automatically, making your protocol easier to read and edit."
   ]
  },
  {
   "cell_type": "code",
   "execution_count": 1,
   "metadata": {
    "collapsed": true
   },
   "outputs": [],
   "source": [
    "'''\n",
    "Run this cell to setup the tutorial\n",
    "'''\n",
    "from opentrons import robot, containers, instruments\n",
    "\n",
    "plate = containers.load('96-flat', 'B1')\n",
    "\n",
    "tiprack = containers.load('tiprack-200ul', 'A1')\n",
    "trash = containers.load('point', 'D2')\n",
    "\n",
    "pipette = instruments.Pipette(\n",
    "    axis='b',\n",
    "    max_volume=200,\n",
    "    tip_racks=[tiprack],   # attach the tip rack\n",
    "    trash_container=trash) # attach the trash"
   ]
  },
  {
   "cell_type": "markdown",
   "metadata": {},
   "source": [
    "<hr></hr>\n",
    "\n",
    "## Basic\n",
    "\n",
    "The example below will transfer **`100`** uL from well **`'A1'`** to well **`'B1'`**, automatically picking up a **new tip** and then dropping it when finished."
   ]
  },
  {
   "cell_type": "code",
   "execution_count": 2,
   "metadata": {
    "collapsed": false
   },
   "outputs": [
    {
     "name": "stdout",
     "output_type": "stream",
     "text": [
      "Picking up tip from <In Place>\n",
      "Aspirating 100.0uL at <Deck>/<Slot B1>/<Container 96-flat>/<Well A1>\n",
      "Dispensing 100.0uL at <Deck>/<Slot B1>/<Container 96-flat>/<Well B1>\n",
      "Drop_tip at <In Place>\n"
     ]
    }
   ],
   "source": [
    "robot.clear_commands()      # erase any previous commands\n",
    "\n",
    "pipette.transfer(100, plate.wells('A1'), plate.wells('B1'))\n",
    "\n",
    "for c in robot.commands():  # show all current commands\n",
    "    print(c)"
   ]
  },
  {
   "cell_type": "markdown",
   "metadata": {},
   "source": [
    "## Large Volumes\n",
    "\n",
    "Volumes larger than the pipette's **`max_volume`** will automatically divide into smaller transfers."
   ]
  },
  {
   "cell_type": "code",
   "execution_count": 3,
   "metadata": {
    "collapsed": false
   },
   "outputs": [
    {
     "name": "stdout",
     "output_type": "stream",
     "text": [
      "Picking up tip from <In Place>\n",
      "Aspirating 200.0uL at <Deck>/<Slot B1>/<Container 96-flat>/<Well A2>\n",
      "Dispensing 200.0uL at <Deck>/<Slot B1>/<Container 96-flat>/<Well B2>\n",
      "Aspirating 200.0uL at <Deck>/<Slot B1>/<Container 96-flat>/<Well A2>\n",
      "Dispensing 200.0uL at <Deck>/<Slot B1>/<Container 96-flat>/<Well B2>\n",
      "Aspirating 150.0uL at <Deck>/<Slot B1>/<Container 96-flat>/<Well A2>\n",
      "Dispensing 150.0uL at <Deck>/<Slot B1>/<Container 96-flat>/<Well B2>\n",
      "Aspirating 150.0uL at <Deck>/<Slot B1>/<Container 96-flat>/<Well A2>\n",
      "Dispensing 150.0uL at <Deck>/<Slot B1>/<Container 96-flat>/<Well B2>\n",
      "Drop_tip at <In Place>\n"
     ]
    }
   ],
   "source": [
    "robot.clear_commands()\n",
    "\n",
    "pipette.transfer(700, plate.wells('A2'), plate.wells('B2'))\n",
    "\n",
    "for c in robot.commands():\n",
    "    print(c)"
   ]
  },
  {
   "cell_type": "markdown",
   "metadata": {},
   "source": [
    "## Multiple Wells\n",
    "\n",
    "Transfer commands are most useful when moving liquid between multiple wells."
   ]
  },
  {
   "cell_type": "code",
   "execution_count": 4,
   "metadata": {
    "collapsed": false
   },
   "outputs": [
    {
     "name": "stdout",
     "output_type": "stream",
     "text": [
      "Picking up tip from <In Place>\n",
      "Aspirating 100.0uL at <Deck>/<Slot B1>/<Container 96-flat>/<Well A1>\n",
      "Dispensing 100.0uL at <Deck>/<Slot B1>/<Container 96-flat>/<Well B1>\n",
      "Aspirating 100.0uL at <Deck>/<Slot B1>/<Container 96-flat>/<Well A2>\n",
      "Dispensing 100.0uL at <Deck>/<Slot B1>/<Container 96-flat>/<Well B2>\n",
      "Aspirating 100.0uL at <Deck>/<Slot B1>/<Container 96-flat>/<Well A3>\n",
      "Dispensing 100.0uL at <Deck>/<Slot B1>/<Container 96-flat>/<Well B3>\n",
      "Aspirating 100.0uL at <Deck>/<Slot B1>/<Container 96-flat>/<Well A4>\n",
      "Dispensing 100.0uL at <Deck>/<Slot B1>/<Container 96-flat>/<Well B4>\n",
      "Aspirating 100.0uL at <Deck>/<Slot B1>/<Container 96-flat>/<Well A5>\n",
      "Dispensing 100.0uL at <Deck>/<Slot B1>/<Container 96-flat>/<Well B5>\n",
      "Aspirating 100.0uL at <Deck>/<Slot B1>/<Container 96-flat>/<Well A6>\n",
      "Dispensing 100.0uL at <Deck>/<Slot B1>/<Container 96-flat>/<Well B6>\n",
      "Aspirating 100.0uL at <Deck>/<Slot B1>/<Container 96-flat>/<Well A7>\n",
      "Dispensing 100.0uL at <Deck>/<Slot B1>/<Container 96-flat>/<Well B7>\n",
      "Aspirating 100.0uL at <Deck>/<Slot B1>/<Container 96-flat>/<Well A8>\n",
      "Dispensing 100.0uL at <Deck>/<Slot B1>/<Container 96-flat>/<Well B8>\n",
      "Aspirating 100.0uL at <Deck>/<Slot B1>/<Container 96-flat>/<Well A9>\n",
      "Dispensing 100.0uL at <Deck>/<Slot B1>/<Container 96-flat>/<Well B9>\n",
      "Aspirating 100.0uL at <Deck>/<Slot B1>/<Container 96-flat>/<Well A10>\n",
      "Dispensing 100.0uL at <Deck>/<Slot B1>/<Container 96-flat>/<Well B10>\n",
      "Aspirating 100.0uL at <Deck>/<Slot B1>/<Container 96-flat>/<Well A11>\n",
      "Dispensing 100.0uL at <Deck>/<Slot B1>/<Container 96-flat>/<Well B11>\n",
      "Aspirating 100.0uL at <Deck>/<Slot B1>/<Container 96-flat>/<Well A12>\n",
      "Dispensing 100.0uL at <Deck>/<Slot B1>/<Container 96-flat>/<Well B12>\n",
      "Drop_tip at <In Place>\n"
     ]
    }
   ],
   "source": [
    "robot.clear_commands()\n",
    "\n",
    "pipette.transfer(100, plate.cols('A'), plate.cols('B'))\n",
    "\n",
    "for c in robot.commands():\n",
    "    print(c)"
   ]
  },
  {
   "cell_type": "markdown",
   "metadata": {},
   "source": [
    "## One to Many (or Many to One)\n",
    "\n",
    "You can transfer from a single source to multiple destinations, and the other way around (many sources to one destination)."
   ]
  },
  {
   "cell_type": "code",
   "execution_count": 5,
   "metadata": {
    "collapsed": false
   },
   "outputs": [
    {
     "name": "stdout",
     "output_type": "stream",
     "text": [
      "Picking up tip from <In Place>\n",
      "Aspirating 100.0uL at <Deck>/<Slot B1>/<Container 96-flat>/<Well A1>\n",
      "Dispensing 100.0uL at <Deck>/<Slot B1>/<Container 96-flat>/<Well A2>\n",
      "Aspirating 100.0uL at <Deck>/<Slot B1>/<Container 96-flat>/<Well A1>\n",
      "Dispensing 100.0uL at <Deck>/<Slot B1>/<Container 96-flat>/<Well B2>\n",
      "Aspirating 100.0uL at <Deck>/<Slot B1>/<Container 96-flat>/<Well A1>\n",
      "Dispensing 100.0uL at <Deck>/<Slot B1>/<Container 96-flat>/<Well C2>\n",
      "Aspirating 100.0uL at <Deck>/<Slot B1>/<Container 96-flat>/<Well A1>\n",
      "Dispensing 100.0uL at <Deck>/<Slot B1>/<Container 96-flat>/<Well D2>\n",
      "Aspirating 100.0uL at <Deck>/<Slot B1>/<Container 96-flat>/<Well A1>\n",
      "Dispensing 100.0uL at <Deck>/<Slot B1>/<Container 96-flat>/<Well E2>\n",
      "Aspirating 100.0uL at <Deck>/<Slot B1>/<Container 96-flat>/<Well A1>\n",
      "Dispensing 100.0uL at <Deck>/<Slot B1>/<Container 96-flat>/<Well F2>\n",
      "Aspirating 100.0uL at <Deck>/<Slot B1>/<Container 96-flat>/<Well A1>\n",
      "Dispensing 100.0uL at <Deck>/<Slot B1>/<Container 96-flat>/<Well G2>\n",
      "Aspirating 100.0uL at <Deck>/<Slot B1>/<Container 96-flat>/<Well A1>\n",
      "Dispensing 100.0uL at <Deck>/<Slot B1>/<Container 96-flat>/<Well H2>\n",
      "Drop_tip at <In Place>\n"
     ]
    }
   ],
   "source": [
    "robot.clear_commands()\n",
    "\n",
    "pipette.transfer(100, plate.wells('A1'), plate.rows('2'))\n",
    "\n",
    "for c in robot.commands():\n",
    "    print(c)"
   ]
  },
  {
   "cell_type": "markdown",
   "metadata": {},
   "source": [
    "## Few to Many (or Many to Few)\n",
    "\n",
    "What happens if, for example, you tell your pipette to transfer from **`4`** source wells to **`2`** destination wells? The transfer command will attempt to divide the wells evenly, or raise an error if the number of wells aren't divisible."
   ]
  },
  {
   "cell_type": "code",
   "execution_count": 6,
   "metadata": {
    "collapsed": false
   },
   "outputs": [
    {
     "name": "stdout",
     "output_type": "stream",
     "text": [
      "Picking up tip from <In Place>\n",
      "Aspirating 100.0uL at <Deck>/<Slot B1>/<Container 96-flat>/<Well A1>\n",
      "Dispensing 100.0uL at <Deck>/<Slot B1>/<Container 96-flat>/<Well B1>\n",
      "Aspirating 100.0uL at <Deck>/<Slot B1>/<Container 96-flat>/<Well A2>\n",
      "Dispensing 100.0uL at <Deck>/<Slot B1>/<Container 96-flat>/<Well B1>\n",
      "Aspirating 100.0uL at <Deck>/<Slot B1>/<Container 96-flat>/<Well A3>\n",
      "Dispensing 100.0uL at <Deck>/<Slot B1>/<Container 96-flat>/<Well B2>\n",
      "Aspirating 100.0uL at <Deck>/<Slot B1>/<Container 96-flat>/<Well A4>\n",
      "Dispensing 100.0uL at <Deck>/<Slot B1>/<Container 96-flat>/<Well B2>\n",
      "Drop_tip at <In Place>\n"
     ]
    }
   ],
   "source": [
    "robot.clear_commands()\n",
    "\n",
    "pipette.transfer(\n",
    "    100,\n",
    "    plate.wells('A1', 'A2', 'A3', 'A4'),\n",
    "    plate.wells('B1', 'B2'))\n",
    "\n",
    "for c in robot.commands():\n",
    "    print(c)"
   ]
  },
  {
   "cell_type": "markdown",
   "metadata": {},
   "source": [
    "## List of Volumes"
   ]
  },
  {
   "cell_type": "code",
   "execution_count": 7,
   "metadata": {
    "collapsed": false,
    "scrolled": true
   },
   "outputs": [
    {
     "name": "stdout",
     "output_type": "stream",
     "text": [
      "Picking up tip from <In Place>\n",
      "Aspirating 20.0uL at <Deck>/<Slot B1>/<Container 96-flat>/<Well A1>\n",
      "Dispensing 20.0uL at <Deck>/<Slot B1>/<Container 96-flat>/<Well B1>\n",
      "Aspirating 40.0uL at <Deck>/<Slot B1>/<Container 96-flat>/<Well A1>\n",
      "Dispensing 40.0uL at <Deck>/<Slot B1>/<Container 96-flat>/<Well B2>\n",
      "Aspirating 60.0uL at <Deck>/<Slot B1>/<Container 96-flat>/<Well A1>\n",
      "Dispensing 60.0uL at <Deck>/<Slot B1>/<Container 96-flat>/<Well B3>\n",
      "Drop_tip at <In Place>\n"
     ]
    }
   ],
   "source": [
    "robot.clear_commands()\n",
    "\n",
    "pipette.transfer(\n",
    "    [20, 40, 60],\n",
    "    plate.wells('A1'),\n",
    "    plate.wells('B1', 'B2', 'B3'))\n",
    "\n",
    "for c in robot.commands():\n",
    "    print(c)"
   ]
  },
  {
   "cell_type": "markdown",
   "metadata": {},
   "source": [
    "## Volume Gradient\n",
    "\n",
    "Create a linear gradient between a start and ending volume (uL). The start and ending volumes must be the first and second elements of a tuple."
   ]
  },
  {
   "cell_type": "code",
   "execution_count": 8,
   "metadata": {
    "collapsed": false,
    "scrolled": true
   },
   "outputs": [
    {
     "name": "stdout",
     "output_type": "stream",
     "text": [
      "Picking up tip from <In Place>\n",
      "Aspirating 100.0uL at <Deck>/<Slot B1>/<Container 96-flat>/<Well A1>\n",
      "Dispensing 100.0uL at <Deck>/<Slot B1>/<Container 96-flat>/<Well A2>\n",
      "Aspirating 90.0uL at <Deck>/<Slot B1>/<Container 96-flat>/<Well A1>\n",
      "Dispensing 90.0uL at <Deck>/<Slot B1>/<Container 96-flat>/<Well B2>\n",
      "Aspirating 80.0uL at <Deck>/<Slot B1>/<Container 96-flat>/<Well A1>\n",
      "Dispensing 80.0uL at <Deck>/<Slot B1>/<Container 96-flat>/<Well C2>\n",
      "Aspirating 70.0uL at <Deck>/<Slot B1>/<Container 96-flat>/<Well A1>\n",
      "Dispensing 70.0uL at <Deck>/<Slot B1>/<Container 96-flat>/<Well D2>\n",
      "Aspirating 60.0uL at <Deck>/<Slot B1>/<Container 96-flat>/<Well A1>\n",
      "Dispensing 60.0uL at <Deck>/<Slot B1>/<Container 96-flat>/<Well E2>\n",
      "Aspirating 50.0uL at <Deck>/<Slot B1>/<Container 96-flat>/<Well A1>\n",
      "Dispensing 50.0uL at <Deck>/<Slot B1>/<Container 96-flat>/<Well F2>\n",
      "Aspirating 40.0uL at <Deck>/<Slot B1>/<Container 96-flat>/<Well A1>\n",
      "Dispensing 40.0uL at <Deck>/<Slot B1>/<Container 96-flat>/<Well G2>\n",
      "Aspirating 30.0uL at <Deck>/<Slot B1>/<Container 96-flat>/<Well A1>\n",
      "Dispensing 30.0uL at <Deck>/<Slot B1>/<Container 96-flat>/<Well H2>\n",
      "Drop_tip at <In Place>\n"
     ]
    }
   ],
   "source": [
    "robot.clear_commands()\n",
    "\n",
    "pipette.transfer(\n",
    "    (100, 30),\n",
    "    plate.wells('A1'),\n",
    "    plate.rows('2'))\n",
    "\n",
    "for c in robot.commands():\n",
    "    print(c)"
   ]
  },
  {
   "cell_type": "code",
   "execution_count": null,
   "metadata": {
    "collapsed": true
   },
   "outputs": [],
   "source": []
  }
 ],
 "metadata": {
  "anaconda-cloud": {},
  "kernelspec": {
   "display_name": "Python 3",
   "language": "python",
   "name": "python3"
  },
  "language_info": {
   "codemirror_mode": {
    "name": "ipython",
    "version": 3
   },
   "file_extension": ".py",
   "mimetype": "text/x-python",
   "name": "python",
   "nbconvert_exporter": "python",
   "pygments_lexer": "ipython3",
   "version": "3.5.1"
  }
 },
 "nbformat": 4,
 "nbformat_minor": 1
}

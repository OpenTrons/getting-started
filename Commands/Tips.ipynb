{
 "cells": [
  {
   "cell_type": "markdown",
   "metadata": {},
   "source": [
    "# Tips\n",
    "\n",
    "This protocol demonstrates the multiple options\n",
    "available for controlling tips"
   ]
  },
  {
   "cell_type": "code",
   "execution_count": null,
   "metadata": {
    "collapsed": true
   },
   "outputs": [],
   "source": [
    "from opentrons import containers, instruments\n",
    "\n",
    "trash = containers.load('point', 'D2')\n",
    "tiprack = containers.load('tiprack-200ul', 'B1')\n",
    "\n",
    "pipette = instruments.Pipette(axis='a')"
   ]
  },
  {
   "cell_type": "markdown",
   "metadata": {},
   "source": [
    "### Pick Up Tip\n",
    "\n",
    "Before any liquid handling can be done, your pipette must have a tip on it. The command `pick_up_tip()` will move the pipette over to the specified tip, the press down into it to create a vacuum seal. The below example picks up the tip at location `A1`."
   ]
  },
  {
   "cell_type": "code",
   "execution_count": null,
   "metadata": {
    "collapsed": true
   },
   "outputs": [],
   "source": [
    "pipette.pick_up_tip(tiprack['A1'])"
   ]
  },
  {
   "cell_type": "markdown",
   "metadata": {},
   "source": [
    "### Drop Tip\n",
    "\n",
    "Once finished with a tip, the pipette will autonomously remove the tip when we call `drop_tip()`. We can specify where to drop the tip by passing in a location. The below example drops the tip back at its originating location on the tip rack."
   ]
  },
  {
   "cell_type": "code",
   "execution_count": null,
   "metadata": {
    "collapsed": true
   },
   "outputs": [],
   "source": [
    "pipette.drop_tip(tiprack['A1'])"
   ]
  },
  {
   "cell_type": "markdown",
   "metadata": {},
   "source": [
    "Instead of returning a tip to the tip rack, we can also drop it in  a trash container."
   ]
  },
  {
   "cell_type": "code",
   "execution_count": null,
   "metadata": {
    "collapsed": true
   },
   "outputs": [],
   "source": [
    "pipette.pick_up_tip(tiprack['A2'])\n",
    "pipette.drop_tip(trash)"
   ]
  },
  {
   "cell_type": "markdown",
   "metadata": {},
   "source": [
    "### Return Tip\n",
    "\n",
    "When we need to return the tip to its originating location on the tip rack, we can simply call `return_tip()`. The example below will automatically return the tip to `A3` on the tip rack."
   ]
  },
  {
   "cell_type": "code",
   "execution_count": null,
   "metadata": {
    "collapsed": true
   },
   "outputs": [],
   "source": [
    "pipette.pick_up_tip(tiprack['A3'])\n",
    "pipette.return_tip()"
   ]
  }
 ],
 "metadata": {
  "anaconda-cloud": {},
  "kernelspec": {
   "display_name": "Python [default]",
   "language": "python",
   "name": "python3"
  },
  "language_info": {
   "codemirror_mode": {
    "name": "ipython",
    "version": 3
   },
   "file_extension": ".py",
   "mimetype": "text/x-python",
   "name": "python",
   "nbconvert_exporter": "python",
   "pygments_lexer": "ipython3",
   "version": "3.5.2"
  }
 },
 "nbformat": 4,
 "nbformat_minor": 0
}

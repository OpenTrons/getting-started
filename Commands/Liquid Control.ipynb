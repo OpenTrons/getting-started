{
 "cells": [
  {
   "cell_type": "markdown",
   "metadata": {},
   "source": [
    "# Liquid Control\n",
    "\n",
    "Demonstrates the usage for liquid-handling specific commands\n",
    "\n",
    "To get these examples working, we will need a pipette and a plate:"
   ]
  },
  {
   "cell_type": "code",
   "execution_count": null,
   "metadata": {
    "collapsed": true
   },
   "outputs": [],
   "source": [
    "from opentrons import containers, instruments\n",
    "\n",
    "plate = containers.load('96-flat', 'B1')\n",
    "pipette = instruments.Pipette(axis='b', max_volume=200)"
   ]
  },
  {
   "cell_type": "markdown",
   "metadata": {},
   "source": [
    "### Aspirate\n",
    "\n",
    "To aspirate is to pull liquid up into the pipette's tip. When calling aspirate on a pipette, we can specify how many micoliters, and at which location, to draw liquid from:"
   ]
  },
  {
   "cell_type": "code",
   "execution_count": null,
   "metadata": {
    "collapsed": false
   },
   "outputs": [],
   "source": [
    "pipette.aspirate(50, plate['A1'])  # aspirate 50uL from plate:A1"
   ]
  },
  {
   "cell_type": "markdown",
   "metadata": {},
   "source": [
    "Now our pipette's tip is now holding 50uL.\n",
    "\n",
    "We can also simply specify how many microliters to aspirate, and not mention a location. The pipette in this circumstance will aspirate from it's current location (which we previously set as `plate['A1']`)."
   ]
  },
  {
   "cell_type": "code",
   "execution_count": null,
   "metadata": {
    "collapsed": false
   },
   "outputs": [],
   "source": [
    "pipette.aspirate(50)               # aspirate 50uL from current position"
   ]
  },
  {
   "cell_type": "markdown",
   "metadata": {},
   "source": [
    "Now our pipette's tip is now holding 100uL.\n",
    "\n",
    "We can also specify only the location to aspirate from. If we do not tell the pipette how many micoliters to aspirate, it will by default fill up the remaining volume in it's tip. In this example, since we already have 100uL in the tip, the pipette will aspirate another 100uL"
   ]
  },
  {
   "cell_type": "code",
   "execution_count": null,
   "metadata": {
    "collapsed": false
   },
   "outputs": [],
   "source": [
    "pipette.aspirate(plate['A2'])      # aspirate until pipette fills from plate:A2"
   ]
  },
  {
   "cell_type": "markdown",
   "metadata": {},
   "source": [
    "### Dispense\n",
    "\n",
    "To dispense is to push out liquid from the pipette's tip. It's usage in the Opentrons API is nearly identical to `aspirate()`, in that you can specify microliters and location, only microliters, or only a location:"
   ]
  },
  {
   "cell_type": "code",
   "execution_count": null,
   "metadata": {
    "collapsed": false
   },
   "outputs": [],
   "source": [
    "pipette.dispense(50, plate['B1'])  # dispense 50uL to plate:B1\n",
    "pipette.dispense(50)               # dispense 50uL to current position\n",
    "pipette.dispense(plate['B2'])      # dispense until pipette empties to plate:B2"
   ]
  },
  {
   "cell_type": "markdown",
   "metadata": {},
   "source": [
    "That final `dispense` without specifying a micoliter amount will dispense all remaining liquids in the tip to `plate['B2']`, and now our pipette is empty."
   ]
  },
  {
   "cell_type": "markdown",
   "metadata": {},
   "source": [
    "### Blow Out\n",
    "\n",
    "To blow out is to push an extra amount of air through the pipette's tip, so as to make sure that any remaining droplets are expelled.\n",
    "\n",
    "When calling `blow_out()` on a pipette, we have the option to specify a location to blow out the remaining liquid. If no location is specified, the pipette will blow out from it's current position."
   ]
  },
  {
   "cell_type": "code",
   "execution_count": null,
   "metadata": {
    "collapsed": true
   },
   "outputs": [],
   "source": [
    "pipette.blow_out()                 # blow out over current location\n",
    "pipette.blow_out(plate['B3'])      # blow out over current plate:B3"
   ]
  },
  {
   "cell_type": "markdown",
   "metadata": {},
   "source": [
    "### Touch Tip\n",
    "\n",
    "To touch tip is to move the pipette's currently attached tip to the edges of a well, for the purpose of knocking off any droplets that might be hanging from the tip.\n",
    "\n",
    "When calling `touch_tip()` on a pipette, we have the option to specify a location where the tip will touch the inner walls. If no location is specified, the pipette will touch tip inside it's current location.\n",
    "\n",
    "**New feature in 2.2.0:** Calling `touch_tip()` with a number allows you to set the vertical offset relative to the top of the well. For example, `touch_tip(-2)` will perform a touch-tip movement 2mm below to the top of the well."
   ]
  },
  {
   "cell_type": "code",
   "execution_count": null,
   "metadata": {
    "collapsed": false
   },
   "outputs": [],
   "source": [
    "pipette.touch_tip()                # touch tip within current location\n",
    "pipette.touch_tip(-2)              # touch tip 2mm below the top of the current location\n",
    "pipette.touch_tip(plate['B1'])     # touch tip within plate:B1"
   ]
  },
  {
   "cell_type": "markdown",
   "metadata": {},
   "source": [
    "### Mix\n",
    "\n",
    "Mixing is simply performing a series of `aspirate()` and `dispense()` commands in a row on a single location. However, instead of having to write those commands out every time, the Opentrons API allows you to simply say `mix()`.\n",
    "\n",
    "The mix command takes three arguments: `mix(repetitions, volume, location)`\n",
    "1. Repetitions - how many times to aspirate/dispense\n",
    "2. Volume - how many microliters to aspirate/dispense each time\n",
    "   * If no volume is specified, defaults to the pipette's maximum volume\n",
    "3. Location - where to perform the mix command\n",
    "   * If no location is specified, defaults to the pipette's current location"
   ]
  },
  {
   "cell_type": "code",
   "execution_count": null,
   "metadata": {
    "collapsed": true
   },
   "outputs": [],
   "source": [
    "pipette.mix(4, 100, plate['A2'])   # mix 4 times, 100uL, in plate:A2\n",
    "pipette.mix(3, 50)                 # mix 3 times, 50uL, in current location\n",
    "pipette.mix(2)                     # mix 2 times, pipette's max volume, in current location"
   ]
  },
  {
   "cell_type": "markdown",
   "metadata": {},
   "source": [
    "### Air Gap\n",
    "\n",
    "Some liquids need an extra amount of air in the pipette's tip to prevent it from sliding out. A call to `.air_gap()` with a microliter amount will aspirate that much air into the tip."
   ]
  },
  {
   "cell_type": "code",
   "execution_count": null,
   "metadata": {
    "collapsed": true
   },
   "outputs": [],
   "source": [
    "pipette.aspirate(100, plate['B4'])\n",
    "pipette.air_gap(20)"
   ]
  }
 ],
 "metadata": {
  "anaconda-cloud": {},
  "kernelspec": {
   "display_name": "Python [default]",
   "language": "python",
   "name": "python3"
  },
  "language_info": {
   "codemirror_mode": {
    "name": "ipython",
    "version": 3
   },
   "file_extension": ".py",
   "mimetype": "text/x-python",
   "name": "python",
   "nbconvert_exporter": "python",
   "pygments_lexer": "ipython3",
   "version": "3.5.2"
  }
 },
 "nbformat": 4,
 "nbformat_minor": 0
}

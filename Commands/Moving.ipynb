{
 "cells": [
  {
   "cell_type": "markdown",
   "metadata": {},
   "source": [
    "# Moving\n",
    "\n",
    "Demonstrates the different ways to control the movement\n",
    "of the Opentrons liquid handler during a protocol run.\n",
    "\n",
    "For the following examples, we will need a tip rack, a 96 well plate, and a pipette."
   ]
  },
  {
   "cell_type": "code",
   "execution_count": null,
   "metadata": {
    "collapsed": true
   },
   "outputs": [],
   "source": [
    "from opentrons import robot, containers, instruments\n",
    "\n",
    "tiprack = containers.load('tiprack-200ul', 'A1')\n",
    "plate = containers.load('96-flat', 'B1')\n",
    "\n",
    "pipette = instruments.Pipette(axis='b')"
   ]
  },
  {
   "cell_type": "markdown",
   "metadata": {},
   "source": [
    "### Head Speed\n",
    "\n",
    "The maximum speed of the robot's head can be set using `robot.head_speed()`. The value we set the speed to is in millimeters-per-second (mm/sec)."
   ]
  },
  {
   "cell_type": "code",
   "execution_count": null,
   "metadata": {
    "collapsed": true
   },
   "outputs": [],
   "source": [
    "robot.head_speed(5000)"
   ]
  },
  {
   "cell_type": "markdown",
   "metadata": {},
   "source": [
    "<div class=\"alert alert-warning\" role=\"alert\" style=\"margin: 10px\">\n",
    "<p><strong>NOTE</strong></p>\n",
    "<p>Setting the head speed to above <code>6000 mm/sec</code> may cause your robot to \"skip\", which means the motors will lose their grip and make a loud vibrating noise. We recommend you try out different speed values on your robot, and see what works and what doesn't.</p>\n",
    "</div>"
   ]
  },
  {
   "cell_type": "markdown",
   "metadata": {},
   "source": [
    "### Move To\n",
    "\n",
    "Pipette's are able to `move_to()` any location on the deck. Any call to `move_to()` will be enqueued, meaning that it will not execute until calling `robot.run()`.\n",
    "\n",
    "For example, we can enqueue a movement to the first tip in our tip rack:"
   ]
  },
  {
   "cell_type": "code",
   "execution_count": null,
   "metadata": {
    "collapsed": false
   },
   "outputs": [],
   "source": [
    "pipette.move_to(tiprack['A1'])"
   ]
  },
  {
   "cell_type": "markdown",
   "metadata": {},
   "source": [
    "You can also specify at what height you would like the robot to move to inside of a location using `top()` and `bottom()` methods on that location."
   ]
  },
  {
   "cell_type": "code",
   "execution_count": null,
   "metadata": {
    "collapsed": true
   },
   "outputs": [],
   "source": [
    "pipette.move_to(plate['A1'].bottom())  # move to the bottom of well A1\n",
    "pipette.move_to(plate['A1'].top())     # move to the top of well A1\n",
    "pipette.move_to(plate['A1'].bottom(2)) # move to 2mm above the bottom of well A1\n",
    "pipette.move_to(plate['A1'].top(-2))   # move to 2mm below the top of well A1"
   ]
  },
  {
   "cell_type": "markdown",
   "metadata": {},
   "source": [
    "The above commands will cause the robot's head to first move upwards, then over to above the target location, then finally downwards until the target location is reached. If instead you would like the robot to mive **in a straight line** to the target location, you can set the movement strategy to `'direct'`."
   ]
  },
  {
   "cell_type": "code",
   "execution_count": null,
   "metadata": {
    "collapsed": false
   },
   "outputs": [],
   "source": [
    "pipette.move_to(plate['A1'], strategy='direct')"
   ]
  },
  {
   "cell_type": "markdown",
   "metadata": {},
   "source": [
    "<div class=\"alert alert-warning\" role=\"alert\" style=\"margin: 10px\">\n",
    "<p><strong>NOTE</strong></p>\n",
    "<p>Moving with <code>strategy='direct'</code> will run the risk of colliding with things on your deck. Be very careful when using the option.</p>\n",
    "</div>\n",
    "\n",
    "Usually the `strategy='direct'` option is useful when moving inside of a well. Take a look at the below sequence of movements, which first move the head to a well, and use `'direct'` movements inside that well, then finally move on to a different well."
   ]
  },
  {
   "cell_type": "code",
   "execution_count": null,
   "metadata": {
    "collapsed": true
   },
   "outputs": [],
   "source": [
    "pipette.move_to(plate['A1'])\n",
    "pipette.move_to(plate['A1'].bottom(1), strategy='direct')\n",
    "pipette.move_to(plate['A1'].top(-2), strategy='direct')\n",
    "pipette.move_to(plate['A2'])"
   ]
  },
  {
   "cell_type": "markdown",
   "metadata": {},
   "source": [
    "### Delay\n",
    "\n",
    "To have your protocol pause for any given number of seconds, simply call `delay()` on your pipette. The value passed into `delay()` is the number of seconds the robot will wait until moving on to the next commands"
   ]
  },
  {
   "cell_type": "code",
   "execution_count": null,
   "metadata": {
    "collapsed": true
   },
   "outputs": [],
   "source": [
    "pipette.delay(2)       # pause for 2 seconds\n",
    "pipette.delay(5 * 60)  # use multiplication to pause for 5 minutes (5 x 60 seconds per minute)"
   ]
  },
  {
   "cell_type": "markdown",
   "metadata": {},
   "source": [
    "### Homing\n",
    "\n",
    "You can enqueue a `home()` command to your protocol, by giving it the `enqueue=True` option. Without passing the `enqueue` option, the home command will run immediately."
   ]
  },
  {
   "cell_type": "code",
   "execution_count": null,
   "metadata": {
    "collapsed": true
   },
   "outputs": [],
   "source": [
    "pipette.move_to(plate['A1'])  # first, move to well A1\n",
    "robot.home(enqueue=True)      # second, home the robot on all axis\n",
    "pipette.move_to(plate['B1'])  # third, move to well B1\n",
    "robot.home('z', enqueue=True)      # fourth, home the Z axis only"
   ]
  }
 ],
 "metadata": {
  "anaconda-cloud": {},
  "kernelspec": {
   "display_name": "Python [default]",
   "language": "python",
   "name": "python3"
  },
  "language_info": {
   "codemirror_mode": {
    "name": "ipython",
    "version": 3
   },
   "file_extension": ".py",
   "mimetype": "text/x-python",
   "name": "python",
   "nbconvert_exporter": "python",
   "pygments_lexer": "ipython3",
   "version": "3.5.2"
  }
 },
 "nbformat": 4,
 "nbformat_minor": 0
}

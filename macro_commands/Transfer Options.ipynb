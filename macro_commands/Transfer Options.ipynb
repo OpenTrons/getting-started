{
 "cells": [
  {
   "cell_type": "markdown",
   "metadata": {},
   "source": [
    "# Transfer Options\n",
    "\n",
    "There are other options for customizing your transfer command:"
   ]
  },
  {
   "cell_type": "code",
   "execution_count": null,
   "metadata": {
    "collapsed": true
   },
   "outputs": [],
   "source": [
    "'''\n",
    "Run this cell to setup the tutorial\n",
    "'''\n",
    "from opentrons import robot, containers, instruments\n",
    "\n",
    "plate = containers.load('96-flat', 'B1')\n",
    "\n",
    "tiprack = containers.load('tiprack-200ul', 'A1')\n",
    "trash = containers.load('point', 'D2')\n",
    "\n",
    "pipette = instruments.Pipette(\n",
    "    axis='b',\n",
    "    max_volume=200,\n",
    "    tip_racks=[tiprack],   # attach the tip rack\n",
    "    trash_container=trash) # attach the trash"
   ]
  },
  {
   "cell_type": "markdown",
   "metadata": {},
   "source": [
    "<hr></hr>\n",
    "\n",
    "## Always Get a New Tip\n",
    "\n",
    "Transfer commands will by default use the same one tip for each well, then finally drop it in the trash once finished.\n",
    "\n",
    "The pipette can optionally get a new tip at the beginning of each aspirate, to help avoid cross contamination."
   ]
  },
  {
   "cell_type": "code",
   "execution_count": null,
   "metadata": {
    "collapsed": false
   },
   "outputs": [],
   "source": [
    "robot.clear_commands()\n",
    "\n",
    "pipette.transfer(\n",
    "    100,\n",
    "    plate.wells('A1', 'A2', 'A3'),\n",
    "    plate.wells('B1', 'B2', 'B3'),\n",
    "    new_tip='always')    # always get a new tip\n",
    "\n",
    "for c in robot.commands():\n",
    "    print(c)"
   ]
  },
  {
   "cell_type": "markdown",
   "metadata": {},
   "source": [
    "## Never Get a New Tip\n",
    "\n",
    "For scenarios where you instead are calling **`.pick_up_tip()`** and **`.drop_tip()`** elsewhere in your protocol, the transfer command can ignore picking up or dropping tips."
   ]
  },
  {
   "cell_type": "code",
   "execution_count": null,
   "metadata": {
    "collapsed": false
   },
   "outputs": [],
   "source": [
    "robot.clear_commands()\n",
    "\n",
    "pipette.transfer(\n",
    "    100,\n",
    "    plate.wells('A1', 'A2', 'A3'),\n",
    "    plate.wells('B1', 'B2', 'B3'),\n",
    "    new_tip='never')    # never pick up or drop a tip\n",
    "\n",
    "for c in robot.commands():\n",
    "    print(c)"
   ]
  },
  {
   "cell_type": "markdown",
   "metadata": {},
   "source": [
    "## Trash or Return Tip\n",
    "\n",
    "By default, the transfer command will drop the pipette's tips in the trash container. However, if you wish to instead return the tip to it's tip rack, you can set `trash=False`."
   ]
  },
  {
   "cell_type": "code",
   "execution_count": null,
   "metadata": {
    "collapsed": false
   },
   "outputs": [],
   "source": [
    "robot.clear_commands()\n",
    "\n",
    "pipette.transfer(\n",
    "    100,\n",
    "    plate.wells('A1'),\n",
    "    plate.wells('B1'),\n",
    "    trash=False)       # do not trash tip\n",
    "\n",
    "for c in robot.commands():\n",
    "    print(c)"
   ]
  },
  {
   "cell_type": "markdown",
   "metadata": {},
   "source": [
    "## Touch Tip\n",
    "\n",
    "A touch-tip can be performed after every aspirate and dispense by setting `touch_tip=True`."
   ]
  },
  {
   "cell_type": "code",
   "execution_count": null,
   "metadata": {
    "collapsed": false
   },
   "outputs": [],
   "source": [
    "robot.clear_commands()\n",
    "\n",
    "pipette.transfer(\n",
    "    100,\n",
    "    plate.wells('A1'),\n",
    "    plate.wells('A2'),=\n",
    "    touch_tip=True)     # touch tip to each well's edge\n",
    "\n",
    "for c in robot.commands():\n",
    "    print(c)"
   ]
  },
  {
   "cell_type": "markdown",
   "metadata": {},
   "source": [
    "## Blow Out\n",
    "\n",
    "A blow-out can be performed after every dispense that leaves the tip empty by setting `blow_out=True`."
   ]
  },
  {
   "cell_type": "code",
   "execution_count": null,
   "metadata": {
    "collapsed": false
   },
   "outputs": [],
   "source": [
    "robot.clear_commands()\n",
    "\n",
    "pipette.transfer(\n",
    "    100,\n",
    "    plate.wells('A1'),\n",
    "    plate.wells('A2'),\n",
    "    blow_out=True)      # blow out droplets when tip is empty\n",
    "\n",
    "for c in robot.commands():\n",
    "    print(c)"
   ]
  },
  {
   "cell_type": "markdown",
   "metadata": {},
   "source": [
    "## Mix Before/After\n",
    "\n",
    "A mix can be performed before every aspirate by setting `mix_before=()`. The value of `mix_before=` must be a tuple, the *1st* value is the number of repetitions, the *2nd* value is the amount of liquid to mix."
   ]
  },
  {
   "cell_type": "code",
   "execution_count": null,
   "metadata": {
    "collapsed": false
   },
   "outputs": [],
   "source": [
    "robot.clear_commands()\n",
    "\n",
    "pipette.transfer(\n",
    "    100,\n",
    "    plate.wells('A1'),\n",
    "    plate.wells('A2'),\n",
    "    mix_before=(2, 50), # mix 2 times with 50uL before aspirating\n",
    "    mix_after=(3, 75))  # mix 3 times with 75uL after dispensing\n",
    "\n",
    "for c in robot.commands():\n",
    "    print(c)"
   ]
  },
  {
   "cell_type": "markdown",
   "metadata": {},
   "source": [
    "## Air Gap\n",
    "\n",
    "An air gap can be performed after every aspirate by setting `air_gap=int`, where the value is the volume of air in microliters to aspirate after aspirating the liquid."
   ]
  },
  {
   "cell_type": "code",
   "execution_count": null,
   "metadata": {
    "collapsed": false
   },
   "outputs": [],
   "source": [
    "robot.clear_commands()\n",
    "\n",
    "pipette.transfer(\n",
    "    100,\n",
    "    plate.wells('A1'),\n",
    "    plate.wells('A2'),\n",
    "    air_gap=20)         # add 20uL of air after each aspirate\n",
    "\n",
    "for c in robot.commands():\n",
    "    print(c)"
   ]
  }
 ],
 "metadata": {
  "anaconda-cloud": {},
  "kernelspec": {
   "display_name": "Python [default]",
   "language": "python",
   "name": "python3"
  },
  "language_info": {
   "codemirror_mode": {
    "name": "ipython",
    "version": 3
   },
   "file_extension": ".py",
   "mimetype": "text/x-python",
   "name": "python",
   "nbconvert_exporter": "python",
   "pygments_lexer": "ipython3",
   "version": "3.5.2"
  }
 },
 "nbformat": 4,
 "nbformat_minor": 1
}

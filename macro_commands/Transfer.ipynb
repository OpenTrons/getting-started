{
 "cells": [
  {
   "cell_type": "markdown",
   "metadata": {},
   "source": [
    "# Transfer\n",
    "\n",
    "The `.transfer()` command is built up from other API commands (like `.aspirate()`, `.dispense()`, and `.drop_tip()`), and allows you to describe the movement of liquids with less words and loops."
   ]
  },
  {
   "cell_type": "code",
   "execution_count": null,
   "metadata": {
    "collapsed": true
   },
   "outputs": [],
   "source": [
    "from opentrons import robot, containers, instruments\n",
    "\n",
    "tiprack = containers.load('tiprack-200ul', 'A1')\n",
    "trash = containers.load('point', 'D2')\n",
    "plate = containers.load('96-flat', 'B1')\n",
    "\n",
    "pipette = instruments.Pipette(\n",
    "    axis='b',\n",
    "    max_volume=200,\n",
    "    tip_racks=[tiprack],\n",
    "    trash_container=trash)"
   ]
  },
  {
   "cell_type": "markdown",
   "metadata": {},
   "source": [
    "<hr></hr>\n",
    "\n",
    "## One to One\n",
    "\n",
    "The most basic usage is to transfer one volume of liquid from a source well to a destination well. The example below does this, and then prints out all the command created."
   ]
  },
  {
   "cell_type": "code",
   "execution_count": null,
   "metadata": {
    "collapsed": false
   },
   "outputs": [],
   "source": [
    "robot.clear_commands()\n",
    "\n",
    "pipette.transfer(100, plate.wells('A1'), plate.wells('B1'))\n",
    "\n",
    "for c in robot.commands():\n",
    "    print(c)"
   ]
  },
  {
   "cell_type": "markdown",
   "metadata": {},
   "source": [
    "If the volume is larger than the pipette's `max_volume`, the `.transfer()` command will automatically break it up into smaller transfers for you."
   ]
  },
  {
   "cell_type": "code",
   "execution_count": null,
   "metadata": {
    "collapsed": false
   },
   "outputs": [],
   "source": [
    "robot.clear_commands()\n",
    "\n",
    "pipette.transfer(800, plate.wells('A2'), plate.wells('B2'))\n",
    "\n",
    "for c in robot.commands():\n",
    "    print(c)"
   ]
  },
  {
   "cell_type": "markdown",
   "metadata": {},
   "source": [
    "<hr></hr>\n",
    "\n",
    "## Many to Many\n",
    "\n",
    "The `.transfer()` command can also be used to move liquid between groups of wells, by using lists of wells as your `source` and `destination`.\n",
    "\n",
    "<div class=\"alert alert-warning\" role=\"alert\" style=\"margin: 10px\">\n",
    "<p><strong>NOTE</strong></p>\n",
    "<p>When transferring liquids between lists of wells, the lists musts be of the same length. You can not ask the <code>.transfer()</code> command to transfer from 2 wells to 3 wells (for example), because it has no idea what you are expecting of it.</p>\n",
    "</div>"
   ]
  },
  {
   "cell_type": "code",
   "execution_count": null,
   "metadata": {
    "collapsed": false
   },
   "outputs": [],
   "source": [
    "robot.clear_commands()\n",
    "\n",
    "pipette.transfer(100, plate.rows('1'), plate.rows('2'))\n",
    "\n",
    "for c in robot.commands():\n",
    "    print(c)"
   ]
  },
  {
   "cell_type": "markdown",
   "metadata": {},
   "source": [
    "#### List of Volumes\n",
    "\n",
    "The volumes can also be a list of different volumes, so that each destination well gets a different volume. This list of volumes must also be the same length as the source/destination lists."
   ]
  },
  {
   "cell_type": "code",
   "execution_count": null,
   "metadata": {
    "collapsed": false
   },
   "outputs": [],
   "source": [
    "robot.clear_commands()\n",
    "\n",
    "volumes = [10, 20, 30, 40, 50, 60, 70, 80]\n",
    "pipette.transfer(volumes, plate.rows('3'), plate.rows('4'))\n",
    "\n",
    "for c in robot.commands():\n",
    "    print(c)"
   ]
  },
  {
   "cell_type": "markdown",
   "metadata": {},
   "source": [
    "<hr></hr>\n",
    "\n",
    "## Handling Tips\n",
    "\n",
    "If you read the command printed above, you will notice the `.transfer()` command picks up a tip once at the beginning, and the drops that tip when finished. This is the default behavior, but can be adjusted by setting the `new_tips=` argument.\n",
    "\n",
    "#### `new_tips='once'`\n",
    "\n",
    "This first example transfers from for `'2'` to row `'3'`, and we've specifed to get a new tip `'once'` (this is the default behavior so there is no need to set this every time)."
   ]
  },
  {
   "cell_type": "code",
   "execution_count": null,
   "metadata": {
    "collapsed": false
   },
   "outputs": [],
   "source": [
    "robot.clear_commands()\n",
    "pipette.transfer(50, plate.wells('A1', 'A2'), plate.wells('B1', 'B1'), new_tip='once')  # default behavior\n",
    "for c in robot.commands():\n",
    "    print(c)"
   ]
  },
  {
   "cell_type": "markdown",
   "metadata": {},
   "source": [
    "#### `new_tips='never'`\n",
    "\n",
    "Transfer commands can also be told to never pick up or drop a tip, by setting `new_tip='never'`. This is useful if you are using the same tip for a previous or future commands."
   ]
  },
  {
   "cell_type": "code",
   "execution_count": null,
   "metadata": {
    "collapsed": false
   },
   "outputs": [],
   "source": [
    "robot.clear_commands()\n",
    "\n",
    "pipette.transfer(50, plate.wells('A1', 'A2'), plate.wells('B1', 'B1'), new_tip='never')\n",
    "\n",
    "for c in robot.commands():\n",
    "    print(c)"
   ]
  },
  {
   "cell_type": "markdown",
   "metadata": {},
   "source": [
    "#### `new_tips='always'`\n",
    "\n",
    "The transfer command can be told to pick up a new tip every time it finishes a dispense, by setting `new_tip='always'`."
   ]
  },
  {
   "cell_type": "code",
   "execution_count": null,
   "metadata": {
    "collapsed": false
   },
   "outputs": [],
   "source": [
    "robot.clear_commands()\n",
    "\n",
    "pipette.transfer(50, plate.wells('A1', 'A2'), plate.wells('B1', 'B1'), new_tip='always')\n",
    "\n",
    "for c in robot.commands():\n",
    "    print(c)"
   ]
  },
  {
   "cell_type": "markdown",
   "metadata": {},
   "source": [
    "#### `trash`\n",
    "\n",
    "By default, the transfer command will drop the pipette's tips in the trash container. However, if you wish to instead return the tip to it's tip rack, you can set `trash-False`."
   ]
  },
  {
   "cell_type": "code",
   "execution_count": null,
   "metadata": {
    "collapsed": false
   },
   "outputs": [],
   "source": [
    "robot.clear_commands()\n",
    "\n",
    "pipette.transfer(50, plate.wells('A1', 'A2'), plate.wells('B1', 'B1'), trash=False)\n",
    "\n",
    "for c in robot.commands():\n",
    "    print(c)"
   ]
  },
  {
   "cell_type": "markdown",
   "metadata": {},
   "source": [
    "## Other Options\n",
    "\n",
    "There are other options for customizing your transfer command:\n",
    "\n",
    "#### `touch_tip`\n",
    "\n",
    "A touch-tip can be performed after every aspirate and dispense by setting `touch_tip=True`."
   ]
  },
  {
   "cell_type": "code",
   "execution_count": null,
   "metadata": {
    "collapsed": false
   },
   "outputs": [],
   "source": [
    "robot.clear_commands()\n",
    "\n",
    "pipette.transfer(100, plate.wells('A1'), plate.wells('A2'), touch_tip=True)\n",
    "\n",
    "for c in robot.commands():\n",
    "    print(c)"
   ]
  },
  {
   "cell_type": "markdown",
   "metadata": {},
   "source": [
    "#### `blow_out`\n",
    "\n",
    "A blow-out can be performed after every dispense that leaves the tip empty by setting `blow_out=True`."
   ]
  },
  {
   "cell_type": "code",
   "execution_count": null,
   "metadata": {
    "collapsed": false
   },
   "outputs": [],
   "source": [
    "robot.clear_commands()\n",
    "\n",
    "pipette.transfer(100, plate.wells('A1'), plate.wells('A2'), blow_out=True)\n",
    "\n",
    "for c in robot.commands():\n",
    "    print(c)"
   ]
  },
  {
   "cell_type": "markdown",
   "metadata": {},
   "source": [
    "#### `mix_before`\n",
    "\n",
    "A mix can be performed before every aspirate by setting `mix_before=()`. The value of `mix_before=` must be a tuple, the *1st* value is the number of repetitions, the *2nd* value is the amount of liquid to mix."
   ]
  },
  {
   "cell_type": "code",
   "execution_count": null,
   "metadata": {
    "collapsed": false
   },
   "outputs": [],
   "source": [
    "robot.clear_commands()\n",
    "\n",
    "pipette.transfer(100, plate.wells('A1'), plate.wells('A2'), mix_before=(2, 50))\n",
    "\n",
    "for c in robot.commands():\n",
    "    print(c)"
   ]
  },
  {
   "cell_type": "markdown",
   "metadata": {},
   "source": [
    "#### `mix_after`\n",
    "\n",
    "A mix can be performed after every dispense by setting `mix_after=()`. The value of `mix_after=` must be a tuple, the *1st* value is the number of repetitions, the *2nd* value is the amount of liquid to mix."
   ]
  },
  {
   "cell_type": "code",
   "execution_count": null,
   "metadata": {
    "collapsed": false
   },
   "outputs": [],
   "source": [
    "robot.clear_commands()\n",
    "\n",
    "pipette.transfer(100, plate.wells('A1'), plate.wells('A2'), mix_after=(2, 50))\n",
    "\n",
    "for c in robot.commands():\n",
    "    print(c)"
   ]
  },
  {
   "cell_type": "markdown",
   "metadata": {},
   "source": [
    "#### `air_gap`\n",
    "\n",
    "An air gap can be performed after every aspirate by setting `air_gap=int`, where the value is the volume of air in microliters to aspirate after aspirating the liquid."
   ]
  },
  {
   "cell_type": "code",
   "execution_count": null,
   "metadata": {
    "collapsed": true
   },
   "outputs": [],
   "source": [
    "robot.clear_commands()\n",
    "\n",
    "pipette.transfer(100, plate.wells('A1'), plate.wells('A2'), air_gap=20)\n",
    "\n",
    "for c in robot.commands():\n",
    "    print(c)"
   ]
  }
 ],
 "metadata": {
  "anaconda-cloud": {},
  "kernelspec": {
   "display_name": "Python 3",
   "language": "python",
   "name": "python3"
  },
  "language_info": {
   "codemirror_mode": {
    "name": "ipython",
    "version": 3
   },
   "file_extension": ".py",
   "mimetype": "text/x-python",
   "name": "python",
   "nbconvert_exporter": "python",
   "pygments_lexer": "ipython3",
   "version": "3.5.1"
  }
 },
 "nbformat": 4,
 "nbformat_minor": 1
}

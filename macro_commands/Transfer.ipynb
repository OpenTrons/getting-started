{
 "cells": [
  {
   "cell_type": "markdown",
   "metadata": {},
   "source": [
    "# Transfer\n",
    "\n",
    "Most of time, a protocol is really just looping over some wells, aspirating, and then dispensing. Even though they are simple in nature, these loops take up a lot of space. The **`pipette.transfer()`** command takes care of those common loops. It will combine aspirates and dispenses automatically, making your protocol easier to read and edit."
   ]
  },
  {
   "cell_type": "code",
   "execution_count": null,
   "metadata": {
    "collapsed": true
   },
   "outputs": [],
   "source": [
    "'''\n",
    "Run this cell to setup the tutorial\n",
    "'''\n",
    "from opentrons import robot, containers, instruments\n",
    "\n",
    "plate = containers.load('96-flat', 'B1')\n",
    "\n",
    "tiprack = containers.load('tiprack-200ul', 'A1')\n",
    "trash = containers.load('point', 'D2')\n",
    "\n",
    "pipette = instruments.Pipette(\n",
    "    axis='b',\n",
    "    max_volume=200,\n",
    "    tip_racks=[tiprack],   # attach the tip rack\n",
    "    trash_container=trash) # attach the trash"
   ]
  },
  {
   "cell_type": "markdown",
   "metadata": {},
   "source": [
    "<hr></hr>\n",
    "\n",
    "## Basic\n",
    "\n",
    "The example below will transfer **`100`** uL from well **`'A1'`** to well **`'B1'`**, automatically picking up a **new tip** and then dropping it when finished."
   ]
  },
  {
   "cell_type": "code",
   "execution_count": null,
   "metadata": {
    "collapsed": false
   },
   "outputs": [],
   "source": [
    "robot.clear_commands()      # erase any previous commands\n",
    "\n",
    "pipette.transfer(100, plate.wells('A1'), plate.wells('B1'))\n",
    "\n",
    "for c in robot.commands():  # show all current commands\n",
    "    print(c)"
   ]
  },
  {
   "cell_type": "markdown",
   "metadata": {},
   "source": [
    "## Large Volumes\n",
    "\n",
    "Volumes larger than the pipette's **`max_volume`** will automatically divide into smaller transfers."
   ]
  },
  {
   "cell_type": "code",
   "execution_count": null,
   "metadata": {
    "collapsed": false
   },
   "outputs": [],
   "source": [
    "robot.clear_commands()\n",
    "\n",
    "pipette.transfer(700, plate.wells('A2'), plate.wells('B2'))\n",
    "\n",
    "for c in robot.commands():\n",
    "    print(c)"
   ]
  },
  {
   "cell_type": "markdown",
   "metadata": {},
   "source": [
    "## Multiple Wells\n",
    "\n",
    "Transfer commands are most useful when moving liquid between multiple wells."
   ]
  },
  {
   "cell_type": "code",
   "execution_count": null,
   "metadata": {
    "collapsed": false
   },
   "outputs": [],
   "source": [
    "robot.clear_commands()\n",
    "\n",
    "pipette.transfer(100, plate.cols('A'), plate.cols('B'))\n",
    "\n",
    "for c in robot.commands():\n",
    "    print(c)"
   ]
  },
  {
   "cell_type": "markdown",
   "metadata": {},
   "source": [
    "## One to Many (or Many to One)\n",
    "\n",
    "You can transfer from a single source to multiple destinations, and the other way around (many sources to one destination)."
   ]
  },
  {
   "cell_type": "code",
   "execution_count": null,
   "metadata": {
    "collapsed": false
   },
   "outputs": [],
   "source": [
    "robot.clear_commands()\n",
    "\n",
    "pipette.transfer(100, plate.wells('A1'), plate.rows('2'))\n",
    "\n",
    "for c in robot.commands():\n",
    "    print(c)"
   ]
  },
  {
   "cell_type": "markdown",
   "metadata": {},
   "source": [
    "## Few to Many (or Many to Few)\n",
    "\n",
    "What happens if, for example, you tell your pipette to transfer from **`4`** source wells to **`2`** destination wells? The transfer command will attempt to divide the wells evenly, or raise an error if the number of wells aren't divisible."
   ]
  },
  {
   "cell_type": "code",
   "execution_count": null,
   "metadata": {
    "collapsed": false
   },
   "outputs": [],
   "source": [
    "robot.clear_commands()\n",
    "\n",
    "pipette.transfer(\n",
    "    100,\n",
    "    plate.wells('A1', 'A2', 'A3', 'A4'),\n",
    "    plate.wells('B1', 'B2'))\n",
    "\n",
    "for c in robot.commands():\n",
    "    print(c)"
   ]
  },
  {
   "cell_type": "markdown",
   "metadata": {},
   "source": [
    "## List of Volumes"
   ]
  },
  {
   "cell_type": "code",
   "execution_count": null,
   "metadata": {
    "collapsed": false,
    "scrolled": true
   },
   "outputs": [],
   "source": [
    "robot.clear_commands()\n",
    "\n",
    "pipette.transfer(\n",
    "    [20, 40, 60],\n",
    "    plate.wells('A1'),\n",
    "    plate.wells('B1', 'B2', 'B3'))\n",
    "\n",
    "for c in robot.commands():\n",
    "    print(c)"
   ]
  },
  {
   "cell_type": "markdown",
   "metadata": {},
   "source": [
    "## Volume Gradient\n",
    "\n",
    "Create a linear gradient between a start and ending volume (uL). The start and ending volumes must be the first and second elements of a tuple."
   ]
  },
  {
   "cell_type": "code",
   "execution_count": null,
   "metadata": {
    "collapsed": false,
    "scrolled": true
   },
   "outputs": [],
   "source": [
    "robot.clear_commands()\n",
    "\n",
    "pipette.transfer(\n",
    "    (100, 30),\n",
    "    plate.wells('A1'),\n",
    "    plate.rows('2'))\n",
    "\n",
    "for c in robot.commands():\n",
    "    print(c)"
   ]
  }
 ],
 "metadata": {
  "anaconda-cloud": {},
  "kernelspec": {
   "display_name": "Python [default]",
   "language": "python",
   "name": "python3"
  },
  "language_info": {
   "codemirror_mode": {
    "name": "ipython",
    "version": 3
   },
   "file_extension": ".py",
   "mimetype": "text/x-python",
   "name": "python",
   "nbconvert_exporter": "python",
   "pygments_lexer": "ipython3",
   "version": "3.5.2"
  }
 },
 "nbformat": 4,
 "nbformat_minor": 1
}

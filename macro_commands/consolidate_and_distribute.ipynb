{
 "cells": [
  {
   "cell_type": "markdown",
   "metadata": {},
   "source": [
    "# Consolidate and Distribute\n",
    "\n",
    "Save time and tips with the **`.distribute()`** and **`.consolidate()`** commands. These are nearly identical to **`.transfer()`**, except that they will combine multiple transfer's into a single tip."
   ]
  },
  {
   "cell_type": "code",
   "execution_count": 1,
   "metadata": {
    "collapsed": true
   },
   "outputs": [],
   "source": [
    "'''\n",
    "Run this cell to setup the tutorial\n",
    "'''\n",
    "from opentrons import robot, containers, instruments\n",
    "\n",
    "plate = containers.load('96-flat', 'B1')\n",
    "\n",
    "tiprack = containers.load('tiprack-200ul', 'A1')\n",
    "trash = containers.load('point', 'D2')\n",
    "\n",
    "pipette = instruments.Pipette(\n",
    "    axis='b',\n",
    "    max_volume=200,\n",
    "    tip_racks=[tiprack],   # attach the tip rack\n",
    "    trash_container=trash) # attach the trash"
   ]
  },
  {
   "cell_type": "markdown",
   "metadata": {},
   "source": [
    "<hr></hr>\n",
    "\n",
    "## Consolidate\n",
    "\n",
    "Volumes going to the same destination well are combined within the same tip, so that multiple aspirates can be combined to a single dispense."
   ]
  },
  {
   "cell_type": "code",
   "execution_count": 2,
   "metadata": {
    "collapsed": false
   },
   "outputs": [
    {
     "name": "stdout",
     "output_type": "stream",
     "text": [
      "Picking up tip from <In Place>\n",
      "Aspirating 30.0uL at <Deck>/<Slot B1>/<Container 96-flat>/<Well A2>\n",
      "Aspirating 30.0uL at <Deck>/<Slot B1>/<Container 96-flat>/<Well B2>\n",
      "Aspirating 30.0uL at <Deck>/<Slot B1>/<Container 96-flat>/<Well C2>\n",
      "Aspirating 30.0uL at <Deck>/<Slot B1>/<Container 96-flat>/<Well D2>\n",
      "Aspirating 30.0uL at <Deck>/<Slot B1>/<Container 96-flat>/<Well E2>\n",
      "Aspirating 30.0uL at <Deck>/<Slot B1>/<Container 96-flat>/<Well F2>\n",
      "Dispensing 180.0uL at <Deck>/<Slot B1>/<Container 96-flat>/<Well A1>\n",
      "Aspirating 30.0uL at <Deck>/<Slot B1>/<Container 96-flat>/<Well G2>\n",
      "Aspirating 30.0uL at <Deck>/<Slot B1>/<Container 96-flat>/<Well H2>\n",
      "Dispensing 60.0uL at <Deck>/<Slot B1>/<Container 96-flat>/<Well A1>\n",
      "Drop_tip at <In Place>\n"
     ]
    }
   ],
   "source": [
    "robot.clear_commands()\n",
    "\n",
    "pipette.consolidate(30, plate.rows('2'), plate.wells('A1'))\n",
    "\n",
    "for c in robot.commands():\n",
    "    print(c)"
   ]
  },
  {
   "cell_type": "markdown",
   "metadata": {},
   "source": [
    "#### Multiple Destination Wells\n",
    "\n",
    "If there are multiple destination wells, the pipette will never combine their volumes into the same tip."
   ]
  },
  {
   "cell_type": "code",
   "execution_count": 3,
   "metadata": {
    "collapsed": false
   },
   "outputs": [
    {
     "name": "stdout",
     "output_type": "stream",
     "text": [
      "Picking up tip from <In Place>\n",
      "Aspirating 30.0uL at <Deck>/<Slot B1>/<Container 96-flat>/<Well A2>\n",
      "Aspirating 30.0uL at <Deck>/<Slot B1>/<Container 96-flat>/<Well B2>\n",
      "Aspirating 30.0uL at <Deck>/<Slot B1>/<Container 96-flat>/<Well C2>\n",
      "Aspirating 30.0uL at <Deck>/<Slot B1>/<Container 96-flat>/<Well D2>\n",
      "Dispensing 120.0uL at <Deck>/<Slot B1>/<Container 96-flat>/<Well A1>\n",
      "Aspirating 30.0uL at <Deck>/<Slot B1>/<Container 96-flat>/<Well E2>\n",
      "Aspirating 30.0uL at <Deck>/<Slot B1>/<Container 96-flat>/<Well F2>\n",
      "Aspirating 30.0uL at <Deck>/<Slot B1>/<Container 96-flat>/<Well G2>\n",
      "Aspirating 30.0uL at <Deck>/<Slot B1>/<Container 96-flat>/<Well H2>\n",
      "Dispensing 120.0uL at <Deck>/<Slot B1>/<Container 96-flat>/<Well A2>\n",
      "Drop_tip at <In Place>\n"
     ]
    }
   ],
   "source": [
    "robot.clear_commands()\n",
    "\n",
    "pipette.consolidate(30, plate.rows('2'), plate.wells('A1', 'A2'))\n",
    "\n",
    "for c in robot.commands():\n",
    "    print(c)"
   ]
  },
  {
   "cell_type": "markdown",
   "metadata": {},
   "source": [
    "<hr></hr>\n",
    "\n",
    "## Distribute\n",
    "\n",
    "Volumes from the same source well are combined within the same tip, so that one aspirate can provide for multiple dispenses."
   ]
  },
  {
   "cell_type": "code",
   "execution_count": 9,
   "metadata": {
    "collapsed": false
   },
   "outputs": [
    {
     "name": "stdout",
     "output_type": "stream",
     "text": [
      "Picking up tip from <In Place>\n",
      "Aspirating 165.0uL at <Deck>/<Slot B1>/<Container 96-flat>/<Well A1>\n",
      "Dispensing 55.0uL at <Deck>/<Slot B1>/<Container 96-flat>/<Well A2>\n",
      "Dispensing 55.0uL at <Deck>/<Slot B1>/<Container 96-flat>/<Well B2>\n",
      "Dispensing 55.0uL at <Deck>/<Slot B1>/<Container 96-flat>/<Well C2>\n",
      "Aspirating 165.0uL at <Deck>/<Slot B1>/<Container 96-flat>/<Well A1>\n",
      "Dispensing 55.0uL at <Deck>/<Slot B1>/<Container 96-flat>/<Well D2>\n",
      "Dispensing 55.0uL at <Deck>/<Slot B1>/<Container 96-flat>/<Well E2>\n",
      "Dispensing 55.0uL at <Deck>/<Slot B1>/<Container 96-flat>/<Well F2>\n",
      "Aspirating 110.0uL at <Deck>/<Slot B1>/<Container 96-flat>/<Well A1>\n",
      "Dispensing 55.0uL at <Deck>/<Slot B1>/<Container 96-flat>/<Well G2>\n",
      "Dispensing 55.0uL at <Deck>/<Slot B1>/<Container 96-flat>/<Well H2>\n",
      "Drop_tip at <In Place>\n"
     ]
    }
   ],
   "source": [
    "robot.clear_commands()\n",
    "\n",
    "pipette.distribute(55, plate.wells('A1'), plate.rows('2'))\n",
    "\n",
    "for c in robot.commands():\n",
    "    print(c)"
   ]
  },
  {
   "cell_type": "markdown",
   "metadata": {},
   "source": [
    "#### Multiple Source Wells\n",
    "\n",
    "If there are multiple source wells, the pipette will never combine their volumes into the same tip."
   ]
  },
  {
   "cell_type": "code",
   "execution_count": 10,
   "metadata": {
    "collapsed": false
   },
   "outputs": [
    {
     "name": "stdout",
     "output_type": "stream",
     "text": [
      "Picking up tip from <In Place>\n",
      "Aspirating 120.0uL at <Deck>/<Slot B1>/<Container 96-flat>/<Well A1>\n",
      "Dispensing 30.0uL at <Deck>/<Slot B1>/<Container 96-flat>/<Well A2>\n",
      "Dispensing 30.0uL at <Deck>/<Slot B1>/<Container 96-flat>/<Well B2>\n",
      "Dispensing 30.0uL at <Deck>/<Slot B1>/<Container 96-flat>/<Well C2>\n",
      "Dispensing 30.0uL at <Deck>/<Slot B1>/<Container 96-flat>/<Well D2>\n",
      "Aspirating 120.0uL at <Deck>/<Slot B1>/<Container 96-flat>/<Well A2>\n",
      "Dispensing 30.0uL at <Deck>/<Slot B1>/<Container 96-flat>/<Well E2>\n",
      "Dispensing 30.0uL at <Deck>/<Slot B1>/<Container 96-flat>/<Well F2>\n",
      "Dispensing 30.0uL at <Deck>/<Slot B1>/<Container 96-flat>/<Well G2>\n",
      "Dispensing 30.0uL at <Deck>/<Slot B1>/<Container 96-flat>/<Well H2>\n",
      "Drop_tip at <In Place>\n"
     ]
    }
   ],
   "source": [
    "robot.clear_commands()\n",
    "\n",
    "pipette.distribute(30, plate.wells('A1', 'A2'), plate.rows('2'))\n",
    "\n",
    "for c in robot.commands():\n",
    "    print(c)"
   ]
  },
  {
   "cell_type": "markdown",
   "metadata": {},
   "source": [
    "#### Disposal Volume\n",
    "\n",
    "When dispensing multiple times from the same tip, it is recommended to aspirate an extra amount of liquid to be disposed of after distributing. This added **`disposal_vol`** can be set as an optional argument."
   ]
  },
  {
   "cell_type": "code",
   "execution_count": 11,
   "metadata": {
    "collapsed": false
   },
   "outputs": [
    {
     "name": "stdout",
     "output_type": "stream",
     "text": [
      "Picking up tip from <In Place>\n",
      "Aspirating 130.0uL at <Deck>/<Slot B1>/<Container 96-flat>/<Well A1>\n",
      "Dispensing 30.0uL at <Deck>/<Slot B1>/<Container 96-flat>/<Well A2>\n",
      "Dispensing 30.0uL at <Deck>/<Slot B1>/<Container 96-flat>/<Well B2>\n",
      "Dispensing 30.0uL at <Deck>/<Slot B1>/<Container 96-flat>/<Well C2>\n",
      "Dispensing 30.0uL at <Deck>/<Slot B1>/<Container 96-flat>/<Well D2>\n",
      "Blow_out at <Deck>/<Slot D2>/<Container point>\n",
      "Aspirating 130.0uL at <Deck>/<Slot B1>/<Container 96-flat>/<Well A2>\n",
      "Dispensing 30.0uL at <Deck>/<Slot B1>/<Container 96-flat>/<Well E2>\n",
      "Dispensing 30.0uL at <Deck>/<Slot B1>/<Container 96-flat>/<Well F2>\n",
      "Dispensing 30.0uL at <Deck>/<Slot B1>/<Container 96-flat>/<Well G2>\n",
      "Dispensing 30.0uL at <Deck>/<Slot B1>/<Container 96-flat>/<Well H2>\n",
      "Blow_out at <Deck>/<Slot D2>/<Container point>\n",
      "Drop_tip at <In Place>\n"
     ]
    }
   ],
   "source": [
    "robot.clear_commands()\n",
    "\n",
    "pipette.distribute(\n",
    "    30,\n",
    "    plate.wells('A1', 'A2'),\n",
    "    plate.rows('2'),\n",
    "    disposal_vol=10)   # include extra liquid to make dispenses more accurate\n",
    "\n",
    "for c in robot.commands():\n",
    "    print(c)"
   ]
  },
  {
   "cell_type": "markdown",
   "metadata": {},
   "source": [
    "<div class=\"alert alert-warning\" role=\"alert\" style=\"margin: 10px\">\n",
    "<p><strong>NOTE</strong></p>\n",
    "<p>If you do not specify a <code>disposal_vol</code>, the pipette will by default use a <code>disposal_vol</code> equal to it's <code>min_volume</code>. This tutorial has not given the pipette any <code>min_volume</code>, so below is an example of allowing the pipette's <code>min_volume</code> to be used as a default for <code>disposal_vol</code>.</p>\n",
    "</div>"
   ]
  },
  {
   "cell_type": "code",
   "execution_count": 14,
   "metadata": {
    "collapsed": false
   },
   "outputs": [
    {
     "name": "stdout",
     "output_type": "stream",
     "text": [
      "Picking up tip from <In Place>\n",
      "Aspirating 140.0uL at <Deck>/<Slot B1>/<Container 96-flat>/<Well A1>\n",
      "Dispensing 30.0uL at <Deck>/<Slot B1>/<Container 96-flat>/<Well A2>\n",
      "Dispensing 30.0uL at <Deck>/<Slot B1>/<Container 96-flat>/<Well B2>\n",
      "Dispensing 30.0uL at <Deck>/<Slot B1>/<Container 96-flat>/<Well C2>\n",
      "Dispensing 30.0uL at <Deck>/<Slot B1>/<Container 96-flat>/<Well D2>\n",
      "Blow_out at <Deck>/<Slot D2>/<Container point>\n",
      "Aspirating 140.0uL at <Deck>/<Slot B1>/<Container 96-flat>/<Well A2>\n",
      "Dispensing 30.0uL at <Deck>/<Slot B1>/<Container 96-flat>/<Well E2>\n",
      "Dispensing 30.0uL at <Deck>/<Slot B1>/<Container 96-flat>/<Well F2>\n",
      "Dispensing 30.0uL at <Deck>/<Slot B1>/<Container 96-flat>/<Well G2>\n",
      "Dispensing 30.0uL at <Deck>/<Slot B1>/<Container 96-flat>/<Well H2>\n",
      "Blow_out at <Deck>/<Slot D2>/<Container point>\n",
      "Drop_tip at <In Place>\n"
     ]
    }
   ],
   "source": [
    "robot.clear_commands()\n",
    "\n",
    "pipette.min_volume = 20  # `min_volume` is used as default to `disposal_vol`\n",
    "\n",
    "pipette.distribute(\n",
    "    30,\n",
    "    plate.wells('A1', 'A2'),\n",
    "    plate.rows('2'))\n",
    "\n",
    "for c in robot.commands():\n",
    "    print(c)"
   ]
  },
  {
   "cell_type": "code",
   "execution_count": null,
   "metadata": {
    "collapsed": true
   },
   "outputs": [],
   "source": []
  }
 ],
 "metadata": {
  "anaconda-cloud": {},
  "kernelspec": {
   "display_name": "Python 3",
   "language": "python",
   "name": "python3"
  },
  "language_info": {
   "codemirror_mode": {
    "name": "ipython",
    "version": 3
   },
   "file_extension": ".py",
   "mimetype": "text/x-python",
   "name": "python",
   "nbconvert_exporter": "python",
   "pygments_lexer": "ipython3",
   "version": "3.5.1"
  }
 },
 "nbformat": 4,
 "nbformat_minor": 1
}
